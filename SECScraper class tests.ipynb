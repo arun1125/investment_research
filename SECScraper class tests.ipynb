{
 "cells": [
  {
   "cell_type": "code",
   "execution_count": 1,
   "id": "institutional-substance",
   "metadata": {},
   "outputs": [],
   "source": [
    "import re\n",
    "from pickle import dump\n",
    "import requests\n",
    "from bs4 import BeautifulSoup\n",
    "import bs4\n",
    "import pandas as pd"
   ]
  },
  {
   "cell_type": "code",
   "execution_count": 2,
   "id": "useful-balloon",
   "metadata": {},
   "outputs": [],
   "source": [
    "class secscraper:\n",
    "    def __init__(self):\n",
    "        self.cik_url = 'http://www.sec.gov/cgi-bin/browse-edgar?CIK={}&Find=Search&owner=exclude&action=getcompany'\n",
    "        self.CIK_RE = re.compile(r'.*CIK=(\\d{10}).*')\n",
    "        self.nasdaq = pd.read_csv('nasdaq.csv')\n",
    "        self.sec_url = 'https://www.sec.gov/cgi-bin/browse-edgar?action=getcompany&CIK={}&type=&dateb=&owner=exclude&start=0&count=100'\n",
    "\n",
    "    def get_cik(self, ticker):\n",
    "        f = requests.get(self.cik_url.format(ticker), stream = True);\n",
    "        results = self.CIK_RE.findall(f.text)\n",
    "        return results[0]\n",
    "    \n",
    "\n",
    "    def get_excel_url(self, cik, key):\n",
    "        base_url = ['https://','sec.gov']\n",
    "        \n",
    "        response = requests.get(self.sec_url.format(cik))\n",
    "        soup = BeautifulSoup(response.text, 'html.parser')\n",
    "        tbls = soup.find_all('table', {'class':'tableFile2'})[0]\n",
    "        tag = self.search_latest_report(tbls, key)\n",
    "        interactive_data_url = tag.find_all('a')[1].get('href')\n",
    "        interactive_data_url = ''.join(base_url + [interactive_data_url])\n",
    "        interactive_data_page = requests.get(interactive_data_url)\n",
    "\n",
    "        page_soup = BeautifulSoup(interactive_data_page.text, 'html.parser')\n",
    "        excel_url = page_soup.find_all('a', {'class':'xbrlviewer'})[1]\n",
    "        excel_url = excel_url.get('href')\n",
    "        pandas_excel_url = ''.join(base_url + [excel_url])\n",
    "\n",
    "        return pandas_excel_url\n",
    "\n",
    "\n",
    "    def search_latest_report(self, table, key):\n",
    "        for tr in table:\n",
    "            search = False\n",
    "            for td in tr:\n",
    "                \n",
    "                if isinstance(td, bs4.element.Tag):\n",
    "                    \n",
    "                    if key in td.text and len(td.text) == 4:\n",
    "                        search=True\n",
    "                        \n",
    "                    if search and 'Interactive Data' in td.text:\n",
    "                        return td\n",
    "\n",
    "    \n",
    "    def get_report(self, ticker, key = '10-Q'):\n",
    "        cik = self.get_cik(ticker)\n",
    "        url = self.get_excel_url(cik, key=key)\n",
    "        dfs = pd.read_excel(url, sheet_name = None )\n",
    "        return dfs"
   ]
  },
  {
   "cell_type": "code",
   "execution_count": 3,
   "id": "smart-employer",
   "metadata": {},
   "outputs": [],
   "source": [
    "sc = secscraper()\n",
    "\n",
    "# dfs = sc.get_report('TSLA')\n",
    "\n",
    "# dfs_10k = sc.get_report('TSLA', key='10-k')"
   ]
  },
  {
   "cell_type": "code",
   "execution_count": 4,
   "id": "chronic-begin",
   "metadata": {},
   "outputs": [],
   "source": [
    "dfs = sc.get_report('TSLA', key='10-K')"
   ]
  },
  {
   "cell_type": "code",
   "execution_count": 5,
   "id": "fourth-label",
   "metadata": {},
   "outputs": [
    {
     "data": {
      "text/plain": [
       "136"
      ]
     },
     "execution_count": 5,
     "metadata": {},
     "output_type": "execute_result"
    }
   ],
   "source": [
    "len(dfs.keys())"
   ]
  },
  {
   "cell_type": "code",
   "execution_count": null,
   "id": "beautiful-violence",
   "metadata": {},
   "outputs": [],
   "source": []
  },
  {
   "cell_type": "code",
   "execution_count": null,
   "id": "meaningful-mileage",
   "metadata": {},
   "outputs": [],
   "source": [
    "for ticker in ['TSLA','MFST', 'GME']:\n",
    "    sc.get_report(ticker, '10-K')"
   ]
  },
  {
   "cell_type": "code",
   "execution_count": null,
   "id": "neither-merit",
   "metadata": {},
   "outputs": [],
   "source": []
  }
 ],
 "metadata": {
  "kernelspec": {
   "display_name": "Python 3",
   "language": "python",
   "name": "python3"
  },
  "language_info": {
   "codemirror_mode": {
    "name": "ipython",
    "version": 3
   },
   "file_extension": ".py",
   "mimetype": "text/x-python",
   "name": "python",
   "nbconvert_exporter": "python",
   "pygments_lexer": "ipython3",
   "version": "3.9.1"
  }
 },
 "nbformat": 4,
 "nbformat_minor": 5
}
