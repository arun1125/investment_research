{
 "cells": [
  {
   "cell_type": "code",
   "execution_count": null,
   "id": "numerical-sight",
   "metadata": {},
   "outputs": [],
   "source": [
    "'''\n",
    "https://www.learndatasci.com/tutorials/python-finance-part-3-moving-average-trading-strategy/\n",
    "https://levelup.gitconnected.com/moving-averages-stocks-and-python-ceec1db504d9\n",
    "\n",
    "\n",
    "'''"
   ]
  },
  {
   "cell_type": "code",
   "execution_count": 49,
   "id": "universal-belfast",
   "metadata": {},
   "outputs": [
    {
     "data": {
      "text/html": [
       "<style>.container { width:100% !important; }</style>"
      ],
      "text/plain": [
       "<IPython.core.display.HTML object>"
      ]
     },
     "metadata": {},
     "output_type": "display_data"
    }
   ],
   "source": [
    "from IPython.core.display import display, HTML\n",
    "display(HTML(\"<style>.container { width:100% !important; }</style>\"))"
   ]
  },
  {
   "cell_type": "code",
   "execution_count": 7,
   "id": "separated-theory",
   "metadata": {},
   "outputs": [],
   "source": [
    "import pandas as pd\n",
    "import numpy as np\n",
    "import plotly.express as px\n",
    "import yfinance as yf\n",
    "import datetime as dt\n",
    "import plotly.graph_objects as go\n",
    "import seaborn as sns"
   ]
  },
  {
   "cell_type": "code",
   "execution_count": 9,
   "id": "olive-bacteria",
   "metadata": {},
   "outputs": [],
   "source": [
    "import matplotlib.pyplot as plt\n",
    "plt.style.use(\"fivethirtyeight\")"
   ]
  },
  {
   "cell_type": "code",
   "execution_count": 12,
   "id": "touched-banner",
   "metadata": {},
   "outputs": [],
   "source": [
    "%matplotlib inline"
   ]
  },
  {
   "cell_type": "code",
   "execution_count": 3,
   "id": "smaller-martin",
   "metadata": {},
   "outputs": [],
   "source": [
    "today = dt.datetime.today()\n",
    "\n",
    "nasdaq = pd.read_csv('../nasdaq.csv').set_index('Date')"
   ]
  },
  {
   "cell_type": "code",
   "execution_count": 4,
   "id": "desirable-miracle",
   "metadata": {},
   "outputs": [
    {
     "data": {
      "text/html": [
       "<div>\n",
       "<style scoped>\n",
       "    .dataframe tbody tr th:only-of-type {\n",
       "        vertical-align: middle;\n",
       "    }\n",
       "\n",
       "    .dataframe tbody tr th {\n",
       "        vertical-align: top;\n",
       "    }\n",
       "\n",
       "    .dataframe thead th {\n",
       "        text-align: right;\n",
       "    }\n",
       "</style>\n",
       "<table border=\"1\" class=\"dataframe\">\n",
       "  <thead>\n",
       "    <tr style=\"text-align: right;\">\n",
       "      <th></th>\n",
       "      <th>Open</th>\n",
       "      <th>High</th>\n",
       "      <th>Low</th>\n",
       "      <th>Close</th>\n",
       "      <th>Volume</th>\n",
       "      <th>Dividends</th>\n",
       "      <th>Stock Splits</th>\n",
       "      <th>Ticker</th>\n",
       "    </tr>\n",
       "    <tr>\n",
       "      <th>Date</th>\n",
       "      <th></th>\n",
       "      <th></th>\n",
       "      <th></th>\n",
       "      <th></th>\n",
       "      <th></th>\n",
       "      <th></th>\n",
       "      <th></th>\n",
       "      <th></th>\n",
       "    </tr>\n",
       "  </thead>\n",
       "  <tbody>\n",
       "    <tr>\n",
       "      <th>1993-10-25</th>\n",
       "      <td>1.120202</td>\n",
       "      <td>1.120202</td>\n",
       "      <td>0.840151</td>\n",
       "      <td>0.840151</td>\n",
       "      <td>18000.0</td>\n",
       "      <td>0.0</td>\n",
       "      <td>0.0</td>\n",
       "      <td>ATVI</td>\n",
       "    </tr>\n",
       "    <tr>\n",
       "      <th>1993-10-26</th>\n",
       "      <td>1.101532</td>\n",
       "      <td>1.101532</td>\n",
       "      <td>0.765472</td>\n",
       "      <td>0.774806</td>\n",
       "      <td>189600.0</td>\n",
       "      <td>0.0</td>\n",
       "      <td>0.0</td>\n",
       "      <td>ATVI</td>\n",
       "    </tr>\n",
       "    <tr>\n",
       "      <th>1993-10-27</th>\n",
       "      <td>0.774806</td>\n",
       "      <td>0.774806</td>\n",
       "      <td>0.774806</td>\n",
       "      <td>0.774806</td>\n",
       "      <td>0.0</td>\n",
       "      <td>0.0</td>\n",
       "      <td>0.0</td>\n",
       "      <td>ATVI</td>\n",
       "    </tr>\n",
       "    <tr>\n",
       "      <th>1993-10-28</th>\n",
       "      <td>0.634781</td>\n",
       "      <td>0.746801</td>\n",
       "      <td>0.522761</td>\n",
       "      <td>0.737466</td>\n",
       "      <td>30000.0</td>\n",
       "      <td>0.0</td>\n",
       "      <td>0.0</td>\n",
       "      <td>ATVI</td>\n",
       "    </tr>\n",
       "    <tr>\n",
       "      <th>1993-10-29</th>\n",
       "      <td>0.784141</td>\n",
       "      <td>0.784141</td>\n",
       "      <td>0.746801</td>\n",
       "      <td>0.746801</td>\n",
       "      <td>172800.0</td>\n",
       "      <td>0.0</td>\n",
       "      <td>0.0</td>\n",
       "      <td>ATVI</td>\n",
       "    </tr>\n",
       "    <tr>\n",
       "      <th>...</th>\n",
       "      <td>...</td>\n",
       "      <td>...</td>\n",
       "      <td>...</td>\n",
       "      <td>...</td>\n",
       "      <td>...</td>\n",
       "      <td>...</td>\n",
       "      <td>...</td>\n",
       "      <td>...</td>\n",
       "    </tr>\n",
       "    <tr>\n",
       "      <th>2021-03-01</th>\n",
       "      <td>388.660004</td>\n",
       "      <td>416.200012</td>\n",
       "      <td>387.010010</td>\n",
       "      <td>409.660004</td>\n",
       "      <td>9947400.0</td>\n",
       "      <td>0.0</td>\n",
       "      <td>0.0</td>\n",
       "      <td>ZM</td>\n",
       "    </tr>\n",
       "    <tr>\n",
       "      <th>2021-03-02</th>\n",
       "      <td>439.600006</td>\n",
       "      <td>440.000000</td>\n",
       "      <td>371.820007</td>\n",
       "      <td>372.790009</td>\n",
       "      <td>18058000.0</td>\n",
       "      <td>0.0</td>\n",
       "      <td>0.0</td>\n",
       "      <td>ZM</td>\n",
       "    </tr>\n",
       "    <tr>\n",
       "      <th>2021-03-03</th>\n",
       "      <td>383.000000</td>\n",
       "      <td>383.250000</td>\n",
       "      <td>339.000000</td>\n",
       "      <td>341.570007</td>\n",
       "      <td>15485200.0</td>\n",
       "      <td>0.0</td>\n",
       "      <td>0.0</td>\n",
       "      <td>ZM</td>\n",
       "    </tr>\n",
       "    <tr>\n",
       "      <th>2021-03-04</th>\n",
       "      <td>347.799988</td>\n",
       "      <td>358.299988</td>\n",
       "      <td>333.000000</td>\n",
       "      <td>343.089996</td>\n",
       "      <td>10297700.0</td>\n",
       "      <td>0.0</td>\n",
       "      <td>0.0</td>\n",
       "      <td>ZM</td>\n",
       "    </tr>\n",
       "    <tr>\n",
       "      <th>2021-03-05</th>\n",
       "      <td>345.390015</td>\n",
       "      <td>347.750000</td>\n",
       "      <td>314.380005</td>\n",
       "      <td>337.429993</td>\n",
       "      <td>8248600.0</td>\n",
       "      <td>0.0</td>\n",
       "      <td>0.0</td>\n",
       "      <td>ZM</td>\n",
       "    </tr>\n",
       "  </tbody>\n",
       "</table>\n",
       "<p>645554 rows × 8 columns</p>\n",
       "</div>"
      ],
      "text/plain": [
       "                  Open        High         Low       Close      Volume  \\\n",
       "Date                                                                     \n",
       "1993-10-25    1.120202    1.120202    0.840151    0.840151     18000.0   \n",
       "1993-10-26    1.101532    1.101532    0.765472    0.774806    189600.0   \n",
       "1993-10-27    0.774806    0.774806    0.774806    0.774806         0.0   \n",
       "1993-10-28    0.634781    0.746801    0.522761    0.737466     30000.0   \n",
       "1993-10-29    0.784141    0.784141    0.746801    0.746801    172800.0   \n",
       "...                ...         ...         ...         ...         ...   \n",
       "2021-03-01  388.660004  416.200012  387.010010  409.660004   9947400.0   \n",
       "2021-03-02  439.600006  440.000000  371.820007  372.790009  18058000.0   \n",
       "2021-03-03  383.000000  383.250000  339.000000  341.570007  15485200.0   \n",
       "2021-03-04  347.799988  358.299988  333.000000  343.089996  10297700.0   \n",
       "2021-03-05  345.390015  347.750000  314.380005  337.429993   8248600.0   \n",
       "\n",
       "            Dividends  Stock Splits Ticker  \n",
       "Date                                        \n",
       "1993-10-25        0.0           0.0   ATVI  \n",
       "1993-10-26        0.0           0.0   ATVI  \n",
       "1993-10-27        0.0           0.0   ATVI  \n",
       "1993-10-28        0.0           0.0   ATVI  \n",
       "1993-10-29        0.0           0.0   ATVI  \n",
       "...               ...           ...    ...  \n",
       "2021-03-01        0.0           0.0     ZM  \n",
       "2021-03-02        0.0           0.0     ZM  \n",
       "2021-03-03        0.0           0.0     ZM  \n",
       "2021-03-04        0.0           0.0     ZM  \n",
       "2021-03-05        0.0           0.0     ZM  \n",
       "\n",
       "[645554 rows x 8 columns]"
      ]
     },
     "execution_count": 4,
     "metadata": {},
     "output_type": "execute_result"
    }
   ],
   "source": [
    "nasdaq"
   ]
  },
  {
   "cell_type": "code",
   "execution_count": 6,
   "id": "several-indonesia",
   "metadata": {},
   "outputs": [
    {
     "data": {
      "text/html": [
       "<div>\n",
       "<style scoped>\n",
       "    .dataframe tbody tr th:only-of-type {\n",
       "        vertical-align: middle;\n",
       "    }\n",
       "\n",
       "    .dataframe tbody tr th {\n",
       "        vertical-align: top;\n",
       "    }\n",
       "\n",
       "    .dataframe thead th {\n",
       "        text-align: right;\n",
       "    }\n",
       "</style>\n",
       "<table border=\"1\" class=\"dataframe\">\n",
       "  <thead>\n",
       "    <tr style=\"text-align: right;\">\n",
       "      <th></th>\n",
       "      <th>Open</th>\n",
       "      <th>High</th>\n",
       "      <th>Low</th>\n",
       "      <th>Close</th>\n",
       "      <th>Volume</th>\n",
       "      <th>Dividends</th>\n",
       "      <th>Stock Splits</th>\n",
       "      <th>Ticker</th>\n",
       "    </tr>\n",
       "    <tr>\n",
       "      <th>Date</th>\n",
       "      <th></th>\n",
       "      <th></th>\n",
       "      <th></th>\n",
       "      <th></th>\n",
       "      <th></th>\n",
       "      <th></th>\n",
       "      <th></th>\n",
       "      <th></th>\n",
       "    </tr>\n",
       "  </thead>\n",
       "  <tbody>\n",
       "    <tr>\n",
       "      <th>1993-10-25</th>\n",
       "      <td>1.120202</td>\n",
       "      <td>1.120202</td>\n",
       "      <td>0.840151</td>\n",
       "      <td>0.840151</td>\n",
       "      <td>18000.0</td>\n",
       "      <td>0.0</td>\n",
       "      <td>0.0</td>\n",
       "      <td>ATVI</td>\n",
       "    </tr>\n",
       "    <tr>\n",
       "      <th>1993-10-26</th>\n",
       "      <td>1.101532</td>\n",
       "      <td>1.101532</td>\n",
       "      <td>0.765472</td>\n",
       "      <td>0.774806</td>\n",
       "      <td>189600.0</td>\n",
       "      <td>0.0</td>\n",
       "      <td>0.0</td>\n",
       "      <td>ATVI</td>\n",
       "    </tr>\n",
       "    <tr>\n",
       "      <th>1993-10-27</th>\n",
       "      <td>0.774806</td>\n",
       "      <td>0.774806</td>\n",
       "      <td>0.774806</td>\n",
       "      <td>0.774806</td>\n",
       "      <td>0.0</td>\n",
       "      <td>0.0</td>\n",
       "      <td>0.0</td>\n",
       "      <td>ATVI</td>\n",
       "    </tr>\n",
       "    <tr>\n",
       "      <th>1993-10-28</th>\n",
       "      <td>0.634781</td>\n",
       "      <td>0.746801</td>\n",
       "      <td>0.522761</td>\n",
       "      <td>0.737466</td>\n",
       "      <td>30000.0</td>\n",
       "      <td>0.0</td>\n",
       "      <td>0.0</td>\n",
       "      <td>ATVI</td>\n",
       "    </tr>\n",
       "    <tr>\n",
       "      <th>1993-10-29</th>\n",
       "      <td>0.784141</td>\n",
       "      <td>0.784141</td>\n",
       "      <td>0.746801</td>\n",
       "      <td>0.746801</td>\n",
       "      <td>172800.0</td>\n",
       "      <td>0.0</td>\n",
       "      <td>0.0</td>\n",
       "      <td>ATVI</td>\n",
       "    </tr>\n",
       "    <tr>\n",
       "      <th>...</th>\n",
       "      <td>...</td>\n",
       "      <td>...</td>\n",
       "      <td>...</td>\n",
       "      <td>...</td>\n",
       "      <td>...</td>\n",
       "      <td>...</td>\n",
       "      <td>...</td>\n",
       "      <td>...</td>\n",
       "    </tr>\n",
       "    <tr>\n",
       "      <th>2021-03-01</th>\n",
       "      <td>97.089996</td>\n",
       "      <td>98.919998</td>\n",
       "      <td>96.889999</td>\n",
       "      <td>98.720001</td>\n",
       "      <td>5135600.0</td>\n",
       "      <td>0.0</td>\n",
       "      <td>0.0</td>\n",
       "      <td>ATVI</td>\n",
       "    </tr>\n",
       "    <tr>\n",
       "      <th>2021-03-02</th>\n",
       "      <td>98.910004</td>\n",
       "      <td>98.989998</td>\n",
       "      <td>96.589996</td>\n",
       "      <td>96.750000</td>\n",
       "      <td>3984500.0</td>\n",
       "      <td>0.0</td>\n",
       "      <td>0.0</td>\n",
       "      <td>ATVI</td>\n",
       "    </tr>\n",
       "    <tr>\n",
       "      <th>2021-03-03</th>\n",
       "      <td>96.290001</td>\n",
       "      <td>96.529999</td>\n",
       "      <td>92.879997</td>\n",
       "      <td>93.709999</td>\n",
       "      <td>5282000.0</td>\n",
       "      <td>0.0</td>\n",
       "      <td>0.0</td>\n",
       "      <td>ATVI</td>\n",
       "    </tr>\n",
       "    <tr>\n",
       "      <th>2021-03-04</th>\n",
       "      <td>93.080002</td>\n",
       "      <td>94.559998</td>\n",
       "      <td>90.739998</td>\n",
       "      <td>91.540001</td>\n",
       "      <td>5771500.0</td>\n",
       "      <td>0.0</td>\n",
       "      <td>0.0</td>\n",
       "      <td>ATVI</td>\n",
       "    </tr>\n",
       "    <tr>\n",
       "      <th>2021-03-05</th>\n",
       "      <td>92.199997</td>\n",
       "      <td>93.389999</td>\n",
       "      <td>90.320000</td>\n",
       "      <td>92.580002</td>\n",
       "      <td>8348600.0</td>\n",
       "      <td>0.0</td>\n",
       "      <td>0.0</td>\n",
       "      <td>ATVI</td>\n",
       "    </tr>\n",
       "  </tbody>\n",
       "</table>\n",
       "<p>6890 rows × 8 columns</p>\n",
       "</div>"
      ],
      "text/plain": [
       "                 Open       High        Low      Close     Volume  Dividends  \\\n",
       "Date                                                                           \n",
       "1993-10-25   1.120202   1.120202   0.840151   0.840151    18000.0        0.0   \n",
       "1993-10-26   1.101532   1.101532   0.765472   0.774806   189600.0        0.0   \n",
       "1993-10-27   0.774806   0.774806   0.774806   0.774806        0.0        0.0   \n",
       "1993-10-28   0.634781   0.746801   0.522761   0.737466    30000.0        0.0   \n",
       "1993-10-29   0.784141   0.784141   0.746801   0.746801   172800.0        0.0   \n",
       "...               ...        ...        ...        ...        ...        ...   \n",
       "2021-03-01  97.089996  98.919998  96.889999  98.720001  5135600.0        0.0   \n",
       "2021-03-02  98.910004  98.989998  96.589996  96.750000  3984500.0        0.0   \n",
       "2021-03-03  96.290001  96.529999  92.879997  93.709999  5282000.0        0.0   \n",
       "2021-03-04  93.080002  94.559998  90.739998  91.540001  5771500.0        0.0   \n",
       "2021-03-05  92.199997  93.389999  90.320000  92.580002  8348600.0        0.0   \n",
       "\n",
       "            Stock Splits Ticker  \n",
       "Date                             \n",
       "1993-10-25           0.0   ATVI  \n",
       "1993-10-26           0.0   ATVI  \n",
       "1993-10-27           0.0   ATVI  \n",
       "1993-10-28           0.0   ATVI  \n",
       "1993-10-29           0.0   ATVI  \n",
       "...                  ...    ...  \n",
       "2021-03-01           0.0   ATVI  \n",
       "2021-03-02           0.0   ATVI  \n",
       "2021-03-03           0.0   ATVI  \n",
       "2021-03-04           0.0   ATVI  \n",
       "2021-03-05           0.0   ATVI  \n",
       "\n",
       "[6890 rows x 8 columns]"
      ]
     },
     "execution_count": 6,
     "metadata": {},
     "output_type": "execute_result"
    }
   ],
   "source": [
    "nasdaq.loc[nasdaq['Ticker'] == 'ATVI']"
   ]
  },
  {
   "cell_type": "code",
   "execution_count": 64,
   "id": "provincial-joint",
   "metadata": {},
   "outputs": [],
   "source": [
    "def moving_averages(ticker, \n",
    "                    ma , \n",
    "                    ohlc ,\n",
    "                    start,\n",
    "                    end = today,\n",
    "                    data = nasdaq):\n",
    "    df = data.copy()\n",
    "    \n",
    "    df = df[df['Ticker'] == ticker]\n",
    "    df['movingAvg'] = df[ohlc].rolling(ma).mean()\n",
    "    df['ewm'] = df[ohlc].ewm(span=ma, adjust=False).mean()\n",
    "    return df\n",
    "#     return px.line(data_frame=df,\n",
    "#        x = df.index,\n",
    "#        y=[ohlc,'movingAvg', 'ewm'],\n",
    "#        range_x = (start, end))\n",
    "    \n",
    "    \n",
    "    \n",
    "#     return df"
   ]
  },
  {
   "cell_type": "code",
   "execution_count": 93,
   "id": "starting-discussion",
   "metadata": {},
   "outputs": [],
   "source": [
    "d = moving_averages('NVDA', 30, 'Close', '2019-01-01').reset_index()"
   ]
  },
  {
   "cell_type": "code",
   "execution_count": 94,
   "id": "incorporate-matthew",
   "metadata": {},
   "outputs": [],
   "source": [
    "from statsmodels.tsa.api import ExponentialSmoothing, SimpleExpSmoothing, Holt"
   ]
  },
  {
   "cell_type": "code",
   "execution_count": 95,
   "id": "timely-victor",
   "metadata": {},
   "outputs": [
    {
     "data": {
      "text/plain": [
       "<AxesSubplot:>"
      ]
     },
     "execution_count": 95,
     "metadata": {},
     "output_type": "execute_result"
    },
    {
     "data": {
      "image/png": "[encoded data removed]",
      "text/plain": [
       "<Figure size 1440x1152 with 1 Axes>"
      ]
     },
     "metadata": {
      "needs_background": "light"
     },
     "output_type": "display_data"
    }
   ],
   "source": [
    "d['Close'].plot(figsize=(20,16))"
   ]
  },
  {
   "cell_type": "code",
   "execution_count": 116,
   "id": "bronze-forum",
   "metadata": {},
   "outputs": [],
   "source": [
    "from statsmodels.tsa.stattools import acf\n",
    "from statsmodels.graphics.tsaplots import plot_acf"
   ]
  },
  {
   "cell_type": "code",
   "execution_count": 121,
   "id": "sound-bumper",
   "metadata": {},
   "outputs": [],
   "source": [
    "d = d.dropna()"
   ]
  },
  {
   "cell_type": "code",
   "execution_count": 123,
   "id": "crazy-infrared",
   "metadata": {},
   "outputs": [
    {
     "name": "stderr",
     "output_type": "stream",
     "text": [
      "/Users/arun/Projects/investing_research/env/lib/python3.8/site-packages/statsmodels/tsa/stattools.py:657: FutureWarning:\n",
      "\n",
      "The default number of lags is changing from 40 tomin(int(10 * np.log10(nobs)), nobs - 1) after 0.12is released. Set the number of lags to an integer to  silence this warning.\n",
      "\n",
      "/Users/arun/Projects/investing_research/env/lib/python3.8/site-packages/statsmodels/tsa/stattools.py:667: FutureWarning:\n",
      "\n",
      "fft=True will become the default after the release of the 0.12 release of statsmodels. To suppress this warning, explicitly set fft=False.\n",
      "\n"
     ]
    },
    {
     "data": {
      "text/plain": [
       "array([1.        , 0.99794998, 0.99607713, 0.99402415, 0.99180579,\n",
       "       0.98954618, 0.98730506, 0.98524459, 0.98277024, 0.98043603,\n",
       "       0.97798773, 0.97541457, 0.97289428, 0.97029818, 0.96767561,\n",
       "       0.96512817, 0.9625697 , 0.96008493, 0.9577441 , 0.95536576,\n",
       "       0.95315819, 0.95091847, 0.94867001, 0.94649684, 0.94439015,\n",
       "       0.94236142, 0.94031449, 0.93828537, 0.93605382, 0.93371469,\n",
       "       0.93140755, 0.92898547, 0.92672594, 0.92451486, 0.92236449,\n",
       "       0.92011649, 0.91784706, 0.91557672, 0.91321173, 0.91088304,\n",
       "       0.90846085])"
      ]
     },
     "execution_count": 123,
     "metadata": {},
     "output_type": "execute_result"
    }
   ],
   "source": [
    "acf(d['Close'], adjusted=True,)"
   ]
  },
  {
   "cell_type": "code",
   "execution_count": 122,
   "id": "handled-nomination",
   "metadata": {},
   "outputs": [
    {
     "data": {
      "image/png": "[encoded data removed]",
      "text/plain": [
       "<Figure size 432x288 with 1 Axes>"
      ]
     },
     "execution_count": 122,
     "metadata": {},
     "output_type": "execute_result"
    },
    {
     "data": {
      "image/png": "[encoded data removed]",
      "text/plain": [
       "<Figure size 432x288 with 1 Axes>"
      ]
     },
     "metadata": {
      "needs_background": "light"
     },
     "output_type": "display_data"
    }
   ],
   "source": [
    "plot_acf(d['Close'].values)"
   ]
  },
  {
   "cell_type": "code",
   "execution_count": 115,
   "id": "exact-airplane",
   "metadata": {},
   "outputs": [
    {
     "data": {
      "text/plain": [
       "0         1.508412\n",
       "1         1.666436\n",
       "2         1.537143\n",
       "3         1.532354\n",
       "4         1.527566\n",
       "           ...    \n",
       "5562    553.669983\n",
       "5563    536.250000\n",
       "5564    512.190002\n",
       "5565    494.809998\n",
       "5566    498.459991\n",
       "Name: Close, Length: 5567, dtype: float64"
      ]
     },
     "execution_count": 115,
     "metadata": {},
     "output_type": "execute_result"
    }
   ],
   "source": [
    "d['Close']"
   ]
  },
  {
   "cell_type": "code",
   "execution_count": null,
   "id": "fourth-ethnic",
   "metadata": {},
   "outputs": [],
   "source": [
    "ExponentialSmoothing, SimpleExpSmoothing, Holt"
   ]
  },
  {
   "cell_type": "code",
   "execution_count": 141,
   "id": "compact-partition",
   "metadata": {},
   "outputs": [],
   "source": [
    "fit1 = Holt(d['Close'],initialization_method=\"estimated\").fit()\n",
    "fcast1 = fit1.forecast(100)"
   ]
  },
  {
   "cell_type": "code",
   "execution_count": 142,
   "id": "encouraging-continent",
   "metadata": {},
   "outputs": [
    {
     "data": {
      "text/plain": [
       "5508    498.437171\n",
       "5509    498.529814\n",
       "5510    498.622457\n",
       "5511    498.715100\n",
       "5512    498.807743\n",
       "           ...    \n",
       "5603    507.238263\n",
       "5604    507.330906\n",
       "5605    507.423549\n",
       "5606    507.516192\n",
       "5607    507.608835\n",
       "Length: 100, dtype: float64"
      ]
     },
     "execution_count": 142,
     "metadata": {},
     "output_type": "execute_result"
    }
   ],
   "source": [
    "fcast1"
   ]
  },
  {
   "cell_type": "code",
   "execution_count": null,
   "id": "amazing-brand",
   "metadata": {},
   "outputs": [],
   "source": []
  }
 ],
 "metadata": {
  "kernelspec": {
   "display_name": "Python 3",
   "language": "python",
   "name": "python3"
  },
  "language_info": {
   "codemirror_mode": {
    "name": "ipython",
    "version": 3
   },
   "file_extension": ".py",
   "mimetype": "text/x-python",
   "name": "python",
   "nbconvert_exporter": "python",
   "pygments_lexer": "ipython3",
   "version": "3.8.5"
  }
 },
 "nbformat": 4,
 "nbformat_minor": 5
}
