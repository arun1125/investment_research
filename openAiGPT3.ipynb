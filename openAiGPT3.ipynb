{
 "cells": [
  {
   "cell_type": "code",
   "execution_count": 2,
   "id": "mineral-timber",
   "metadata": {},
   "outputs": [],
   "source": [
    "org = 'org-azyxOb3ldBM2HLh322OEJNhH'"
   ]
  },
  {
   "cell_type": "code",
   "execution_count": 3,
   "id": "damaged-ending",
   "metadata": {},
   "outputs": [],
   "source": [
    "secret = 'sk-54omxrx9nZYpnz6ymAxebNmRxCBGaYuHeVkDwzHE'"
   ]
  },
  {
   "cell_type": "code",
   "execution_count": 4,
   "id": "korean-vocabulary",
   "metadata": {
    "scrolled": true
   },
   "outputs": [
    {
     "data": {
      "text/plain": [
       "<OpenAIObject list at 0x10c113ef0> JSON: {\n",
       "  \"data\": [\n",
       "    {\n",
       "      \"created\": null,\n",
       "      \"id\": \"ada\",\n",
       "      \"max_replicas\": null,\n",
       "      \"object\": \"engine\",\n",
       "      \"owner\": \"openai\",\n",
       "      \"permissions\": null,\n",
       "      \"ready\": true,\n",
       "      \"ready_replicas\": null,\n",
       "      \"replicas\": null\n",
       "    },\n",
       "    {\n",
       "      \"created\": null,\n",
       "      \"id\": \"babbage\",\n",
       "      \"max_replicas\": null,\n",
       "      \"object\": \"engine\",\n",
       "      \"owner\": \"openai\",\n",
       "      \"permissions\": null,\n",
       "      \"ready\": true,\n",
       "      \"ready_replicas\": null,\n",
       "      \"replicas\": null\n",
       "    },\n",
       "    {\n",
       "      \"created\": null,\n",
       "      \"id\": \"content-filter-alpha-c4\",\n",
       "      \"max_replicas\": null,\n",
       "      \"object\": \"engine\",\n",
       "      \"owner\": \"openai\",\n",
       "      \"permissions\": null,\n",
       "      \"ready\": true,\n",
       "      \"ready_replicas\": null,\n",
       "      \"replicas\": null\n",
       "    },\n",
       "    {\n",
       "      \"created\": null,\n",
       "      \"id\": \"content-filter-dev\",\n",
       "      \"max_replicas\": null,\n",
       "      \"object\": \"engine\",\n",
       "      \"owner\": \"openai\",\n",
       "      \"permissions\": null,\n",
       "      \"ready\": true,\n",
       "      \"ready_replicas\": null,\n",
       "      \"replicas\": null\n",
       "    },\n",
       "    {\n",
       "      \"created\": null,\n",
       "      \"id\": \"curie\",\n",
       "      \"max_replicas\": null,\n",
       "      \"object\": \"engine\",\n",
       "      \"owner\": \"openai\",\n",
       "      \"permissions\": null,\n",
       "      \"ready\": true,\n",
       "      \"ready_replicas\": null,\n",
       "      \"replicas\": null\n",
       "    },\n",
       "    {\n",
       "      \"created\": null,\n",
       "      \"id\": \"curie-instruct-beta\",\n",
       "      \"max_replicas\": null,\n",
       "      \"object\": \"engine\",\n",
       "      \"owner\": \"openai\",\n",
       "      \"permissions\": null,\n",
       "      \"ready\": true,\n",
       "      \"ready_replicas\": null,\n",
       "      \"replicas\": null\n",
       "    },\n",
       "    {\n",
       "      \"created\": null,\n",
       "      \"id\": \"cursing-filter-v6\",\n",
       "      \"max_replicas\": null,\n",
       "      \"object\": \"engine\",\n",
       "      \"owner\": \"openai\",\n",
       "      \"permissions\": null,\n",
       "      \"ready\": true,\n",
       "      \"ready_replicas\": null,\n",
       "      \"replicas\": null\n",
       "    },\n",
       "    {\n",
       "      \"created\": null,\n",
       "      \"id\": \"davinci\",\n",
       "      \"max_replicas\": null,\n",
       "      \"object\": \"engine\",\n",
       "      \"owner\": \"openai\",\n",
       "      \"permissions\": null,\n",
       "      \"ready\": true,\n",
       "      \"ready_replicas\": null,\n",
       "      \"replicas\": null\n",
       "    },\n",
       "    {\n",
       "      \"created\": null,\n",
       "      \"id\": \"davinci-instruct-beta\",\n",
       "      \"max_replicas\": null,\n",
       "      \"object\": \"engine\",\n",
       "      \"owner\": \"openai\",\n",
       "      \"permissions\": null,\n",
       "      \"ready\": true,\n",
       "      \"ready_replicas\": null,\n",
       "      \"replicas\": null\n",
       "    }\n",
       "  ],\n",
       "  \"object\": \"list\"\n",
       "}"
      ]
     },
     "execution_count": 4,
     "metadata": {},
     "output_type": "execute_result"
    }
   ],
   "source": [
    "import openai\n",
    "openai.organization = org\n",
    "openai.api_key = secret\n",
    "openai.Engine.list()\n"
   ]
  },
  {
   "cell_type": "code",
   "execution_count": 7,
   "id": "tested-debate",
   "metadata": {},
   "outputs": [
    {
     "data": {
      "text/plain": [
       "<module 'openai.api_resources.completion' from '/Users/arun/Projects/investing_research/env/lib/python3.8/site-packages/openai/api_resources/completion.py'>"
      ]
     },
     "execution_count": 7,
     "metadata": {},
     "output_type": "execute_result"
    }
   ],
   "source": [
    "openai.completion.Completion.create()"
   ]
  },
  {
   "cell_type": "code",
   "execution_count": 6,
   "id": "partial-racing",
   "metadata": {},
   "outputs": [
    {
     "data": {
      "text/plain": [
       "<Engine at 0x10e304130> JSON: {}"
      ]
     },
     "execution_count": 6,
     "metadata": {},
     "output_type": "execute_result"
    }
   ],
   "source": [
    "openai.Engine."
   ]
  },
  {
   "cell_type": "code",
   "execution_count": 8,
   "id": "integral-atlas",
   "metadata": {},
   "outputs": [
    {
     "name": "stdout",
     "output_type": "stream",
     "text": [
      "zsh:1: command not found: nvidia-smi\r\n"
     ]
    }
   ],
   "source": [
    "!nvidia-smi"
   ]
  },
  {
   "cell_type": "code",
   "execution_count": 9,
   "id": "acting-university",
   "metadata": {},
   "outputs": [
    {
     "name": "stderr",
     "output_type": "stream",
     "text": [
      "02/20/2021 17:15:19 - INFO - faiss -   Loading faiss.\n"
     ]
    }
   ],
   "source": [
    "from haystack.preprocessor.cleaning import clean_wiki_text\n",
    "from haystack.preprocessor.utils import convert_files_to_dicts, fetch_archive_from_http\n",
    "from haystack.reader.farm import FARMReader\n",
    "from haystack.reader.transformers import TransformersReader\n",
    "from haystack.utils import print_answers"
   ]
  },
  {
   "cell_type": "code",
   "execution_count": 10,
   "id": "sized-eagle",
   "metadata": {},
   "outputs": [
    {
     "name": "stdout",
     "output_type": "stream",
     "text": [
      "Unable to find image 'elasticsearch:7.9.2' locally\n",
      "7.9.2: Pulling from library/elasticsearch\n",
      "\n",
      "\u001b[1B29a71a1c: Pulling fs layer \n",
      "\u001b[1B0a45aa50: Pulling fs layer \n",
      "\u001b[1Bbb9ac613: Pulling fs layer \n",
      "\u001b[1Bf7a2301a: Pulling fs layer \n",
      "\u001b[1B8d841d2e: Pulling fs layer \n",
      "\u001b[1Be2f6acdd: Pulling fs layer \n",
      "\u001b[1Bf7bd0cd7: Pulling fs layer \n",
      "\u001b[1B52ba6659: Pulling fs layer \n",
      "\u001b[1BDigest: sha256:e3b52403c6fb95eb4dc6092d39c187acfc38e8afd61e4d38801ae323b3eeeff3[6A\u001b[2K\u001b[9A\u001b[2K\u001b[9A\u001b[2K\u001b[9A\u001b[2K\u001b[7A\u001b[2K\u001b[7A\u001b[2K\u001b[7A\u001b[2K\u001b[7A\u001b[2K\u001b[9A\u001b[2K\u001b[7A\u001b[2K\u001b[9A\u001b[2K\u001b[9A\u001b[2K\u001b[9A\u001b[2K\u001b[7A\u001b[2K\u001b[9A\u001b[2K\u001b[9A\u001b[2K\u001b[7A\u001b[2K\u001b[9A\u001b[2K\u001b[9A\u001b[2K\u001b[7A\u001b[2K\u001b[9A\u001b[2K\u001b[7A\u001b[2K\u001b[5A\u001b[2K\u001b[9A\u001b[2K\u001b[7A\u001b[2K\u001b[5A\u001b[2K\u001b[9A\u001b[2K\u001b[7A\u001b[2K\u001b[9A\u001b[2K\u001b[5A\u001b[2K\u001b[9A\u001b[2K\u001b[5A\u001b[2K\u001b[9A\u001b[2K\u001b[7A\u001b[2K\u001b[7A\u001b[2K\u001b[9A\u001b[2K\u001b[7A\u001b[2K\u001b[5A\u001b[2K\u001b[9A\u001b[2K\u001b[7A\u001b[2K\u001b[9A\u001b[2K\u001b[7A\u001b[2K\u001b[5A\u001b[2K\u001b[5A\u001b[2K\u001b[9A\u001b[2K\u001b[5A\u001b[2K\u001b[9A\u001b[2K\u001b[4A\u001b[2K\u001b[9A\u001b[2K\u001b[5A\u001b[2K\u001b[9A\u001b[2K\u001b[5A\u001b[2K\u001b[9A\u001b[2K\u001b[5A\u001b[2K\u001b[5A\u001b[2K\u001b[9A\u001b[2K\u001b[9A\u001b[2K\u001b[3A\u001b[2K\u001b[3A\u001b[2K\u001b[5A\u001b[2K\u001b[9A\u001b[2K\u001b[5A\u001b[2K\u001b[5A\u001b[2K\u001b[5A\u001b[2K\u001b[9A\u001b[2K\u001b[2A\u001b[2K\u001b[5A\u001b[2K\u001b[9A\u001b[2K\u001b[5A\u001b[2K\u001b[9A\u001b[2K\u001b[5A\u001b[2K\u001b[9A\u001b[2K\u001b[5A\u001b[2K\u001b[9A\u001b[2K\u001b[5A\u001b[2K\u001b[1A\u001b[2K\u001b[9A\u001b[2K\u001b[1A\u001b[2K\u001b[1A\u001b[2K\u001b[9A\u001b[2K\u001b[1A\u001b[2K\u001b[9A\u001b[2K\u001b[5A\u001b[2K\u001b[9A\u001b[2K\u001b[9A\u001b[2K\u001b[5A\u001b[2K\u001b[9A\u001b[2K\u001b[5A\u001b[2K\u001b[5A\u001b[2K\u001b[5A\u001b[2KDownloading  21.44MB/318.9MB\u001b[9A\u001b[2K\u001b[9A\u001b[2K\u001b[5A\u001b[2K\u001b[9A\u001b[2K\u001b[9A\u001b[2K\u001b[5A\u001b[2K\u001b[5A\u001b[2K\u001b[9A\u001b[2K\u001b[5A\u001b[2K\u001b[9A\u001b[2K\u001b[9A\u001b[2K\u001b[5A\u001b[2K\u001b[9A\u001b[2K\u001b[5A\u001b[2K\u001b[9A\u001b[2K\u001b[5A\u001b[2K\u001b[9A\u001b[2K\u001b[5A\u001b[2K\u001b[5A\u001b[2K\u001b[9A\u001b[2K\u001b[5A\u001b[2K\u001b[9A\u001b[2K\u001b[5A\u001b[2K\u001b[9A\u001b[2K\u001b[5A\u001b[2K\u001b[9A\u001b[2K\u001b[5A\u001b[2K\u001b[9A\u001b[2K\u001b[5A\u001b[2K\u001b[9A\u001b[2K\u001b[5A\u001b[2K\u001b[9A\u001b[2K\u001b[5A\u001b[2K\u001b[9A\u001b[2K\u001b[5A\u001b[2K\u001b[9A\u001b[2K\u001b[5A\u001b[2K\u001b[9A\u001b[2K\u001b[5A\u001b[2K\u001b[5A\u001b[2K\u001b[5A\u001b[2K\u001b[5A\u001b[2K\u001b[9A\u001b[2K\u001b[5A\u001b[2K\u001b[9A\u001b[2K\u001b[5A\u001b[2K\u001b[9A\u001b[2K\u001b[5A\u001b[2K\u001b[5A\u001b[2K\u001b[5A\u001b[2K\u001b[5A\u001b[2K\u001b[5A\u001b[2K\u001b[9A\u001b[2K\u001b[5A\u001b[2K\u001b[9A\u001b[2K\u001b[5A\u001b[2K\u001b[9A\u001b[2K\u001b[5A\u001b[2K\u001b[5A\u001b[2K\u001b[5A\u001b[2K\u001b[9A\u001b[2K\u001b[9A\u001b[2K\u001b[9A\u001b[2K\u001b[5A\u001b[2K\u001b[9A\u001b[2K\u001b[5A\u001b[2K\u001b[9A\u001b[2K\u001b[5A\u001b[2K\u001b[9A\u001b[2K\u001b[9A\u001b[2K\u001b[9A\u001b[2K\u001b[9A\u001b[2K\u001b[5A\u001b[2K\u001b[9A\u001b[2K\u001b[9A\u001b[2K\u001b[5A\u001b[2K\u001b[9A\u001b[2K\u001b[9A\u001b[2K\u001b[5A\u001b[2K\u001b[9A\u001b[2K\u001b[9A\u001b[2K\u001b[9A\u001b[2K\u001b[5A\u001b[2K\u001b[9A\u001b[2K\u001b[5A\u001b[2K\u001b[9A\u001b[2K\u001b[9A\u001b[2K\u001b[9A\u001b[2K\u001b[5A\u001b[2K\u001b[9A\u001b[2K\u001b[5A\u001b[2K\u001b[9A\u001b[2K\u001b[5A\u001b[2KExtracting  66.29MB/75.86MB\u001b[5A\u001b[2K\u001b[9A\u001b[2K\u001b[5A\u001b[2K\u001b[9A\u001b[2K\u001b[5A\u001b[2K\u001b[9A\u001b[2K\u001b[9A\u001b[2K\u001b[9A\u001b[2K\u001b[9A\u001b[2K\u001b[5A\u001b[2K\u001b[5A\u001b[2K\u001b[5A\u001b[2K\u001b[5A\u001b[2K\u001b[5A\u001b[2K\u001b[5A\u001b[2K\u001b[5A\u001b[2K\u001b[5A\u001b[2K\u001b[8A\u001b[2K\u001b[5A\u001b[2K\u001b[7A\u001b[2K\u001b[5A\u001b[2K\u001b[5A\u001b[2K\u001b[7A\u001b[2K\u001b[7A\u001b[2K\u001b[5A\u001b[2K\u001b[6A\u001b[2K\u001b[5A\u001b[2K\u001b[5A\u001b[2K\u001b[5A\u001b[2K\u001b[5A\u001b[2K\u001b[5A\u001b[2K\u001b[5A\u001b[2K\u001b[5A\u001b[2K\u001b[5A\u001b[2K\u001b[5A\u001b[2K\u001b[5A\u001b[2K\u001b[5A\u001b[2K\u001b[5A\u001b[2K\u001b[5A\u001b[2K\u001b[5A\u001b[2K\u001b[5A\u001b[2K\u001b[5A\u001b[2K\u001b[5A\u001b[2K\u001b[5A\u001b[2K\u001b[5A\u001b[2K\u001b[5A\u001b[2K\u001b[5A\u001b[2K\u001b[5A\u001b[2K\u001b[5A\u001b[2K\u001b[5A\u001b[2K\u001b[5A\u001b[2K\u001b[5A\u001b[2K\u001b[5A\u001b[2K\u001b[5A\u001b[2K\u001b[5A\u001b[2K\u001b[5A\u001b[2K\u001b[5A\u001b[2K\u001b[5A\u001b[2K\u001b[5A\u001b[2K\u001b[5A\u001b[2K\u001b[5A\u001b[2K\u001b[5A\u001b[2K\u001b[5A\u001b[2K\u001b[5A\u001b[2K\u001b[5A\u001b[2K\u001b[5A\u001b[2K\u001b[5A\u001b[2K\u001b[5A\u001b[2K\u001b[5A\u001b[2K\u001b[5A\u001b[2K\u001b[5A\u001b[2K\u001b[5A\u001b[2K\u001b[5A\u001b[2K\u001b[5A\u001b[2K\u001b[5A\u001b[2K\u001b[5A\u001b[2K\u001b[5A\u001b[2K\u001b[5A\u001b[2K\u001b[5A\u001b[2K\u001b[5A\u001b[2KDownloading  136.3MB/318.9MB\u001b[5A\u001b[2K\u001b[5A\u001b[2K\u001b[5A\u001b[2K\u001b[5A\u001b[2K\u001b[5A\u001b[2K\u001b[5A\u001b[2K\u001b[5A\u001b[2K\u001b[5A\u001b[2K\u001b[5A\u001b[2K\u001b[5A\u001b[2K\u001b[5A\u001b[2K\u001b[5A\u001b[2K\u001b[5A\u001b[2K\u001b[5A\u001b[2K\u001b[5A\u001b[2K\u001b[5A\u001b[2K\u001b[5A\u001b[2K\u001b[5A\u001b[2K\u001b[5A\u001b[2K\u001b[5A\u001b[2K\u001b[5A\u001b[2K\u001b[5A\u001b[2K\u001b[5A\u001b[2K\u001b[5A\u001b[2K\u001b[5A\u001b[2K\u001b[5A\u001b[2K\u001b[5A\u001b[2K\u001b[5A\u001b[2K\u001b[5A\u001b[2K\u001b[5A\u001b[2K\u001b[5A\u001b[2K\u001b[5A\u001b[2K\u001b[5A\u001b[2K\u001b[5A\u001b[2K\u001b[5A\u001b[2K\u001b[5A\u001b[2K\u001b[5A\u001b[2K\u001b[5A\u001b[2K\u001b[5A\u001b[2K\u001b[5A\u001b[2K\u001b[5A\u001b[2K\u001b[5A\u001b[2K\u001b[5A\u001b[2K\u001b[5A\u001b[2K\u001b[5A\u001b[2K\u001b[5A\u001b[2K\u001b[5A\u001b[2K\u001b[5A\u001b[2K\u001b[5A\u001b[2K\u001b[5A\u001b[2K\u001b[5A\u001b[2K\u001b[5A\u001b[2K\u001b[5A\u001b[2K\u001b[5A\u001b[2K\u001b[5A\u001b[2K\u001b[5A\u001b[2K\u001b[5A\u001b[2K\u001b[5A\u001b[2K\u001b[5A\u001b[2K\u001b[5A\u001b[2K\u001b[5A\u001b[2K\u001b[5A\u001b[2K\u001b[5A\u001b[2K\u001b[5A\u001b[2K\u001b[5A\u001b[2K\u001b[5A\u001b[2K\u001b[5A\u001b[2K\u001b[5A\u001b[2K\u001b[5A\u001b[2K\u001b[5A\u001b[2K\u001b[5A\u001b[2K\u001b[5A\u001b[2K\u001b[5A\u001b[2K\u001b[5A\u001b[2K\u001b[5A\u001b[2K\u001b[5A\u001b[2K\u001b[5A\u001b[2K\u001b[5A\u001b[2K\u001b[5A\u001b[2K\u001b[5A\u001b[2K\u001b[5A\u001b[2K\u001b[5A\u001b[2K\u001b[5A\u001b[2K\u001b[5A\u001b[2K\u001b[5A\u001b[2K\u001b[5A\u001b[2K\u001b[5A\u001b[2K\u001b[5A\u001b[2K\u001b[5A\u001b[2K\u001b[5A\u001b[2K\u001b[5A\u001b[2K\u001b[5A\u001b[2K\u001b[5A\u001b[2K\u001b[5A\u001b[2K\u001b[5A\u001b[2K\u001b[5A\u001b[2K\u001b[5A\u001b[2K\u001b[5A\u001b[2K\u001b[5A\u001b[2K\u001b[5A\u001b[2K\u001b[5A\u001b[2K\u001b[5A\u001b[2K\u001b[5A\u001b[2K\u001b[5A\u001b[2K\u001b[5A\u001b[2K\u001b[5A\u001b[2K\u001b[5A\u001b[2K\u001b[5A\u001b[2K\u001b[5A\u001b[2K\u001b[5A\u001b[2K\u001b[5A\u001b[2K\u001b[5A\u001b[2K\u001b[5A\u001b[2K\u001b[5A\u001b[2K\u001b[5A\u001b[2K\u001b[5A\u001b[2KDownloading  266.8MB/318.9MB\u001b[5A\u001b[2K\u001b[5A\u001b[2K\u001b[5A\u001b[2K\u001b[5A\u001b[2K\u001b[5A\u001b[2K\u001b[5A\u001b[2K\u001b[5A\u001b[2K\u001b[5A\u001b[2K\u001b[5A\u001b[2K\u001b[5A\u001b[2K\u001b[5A\u001b[2K\u001b[5A\u001b[2K\u001b[5A\u001b[2K\u001b[5A\u001b[2K\u001b[5A\u001b[2K\u001b[5A\u001b[2K\u001b[5A\u001b[2K\u001b[5A\u001b[2K\u001b[5A\u001b[2K\u001b[5A\u001b[2K\u001b[5A\u001b[2K\u001b[5A\u001b[2K\u001b[5A\u001b[2K\u001b[5A\u001b[2K\u001b[5A\u001b[2K\u001b[5A\u001b[2K\u001b[5A\u001b[2K\u001b[5A\u001b[2K\u001b[5A\u001b[2K\u001b[5A\u001b[2K\u001b[5A\u001b[2K\u001b[5A\u001b[2K\u001b[5A\u001b[2K\u001b[5A\u001b[2K\u001b[5A\u001b[2K\u001b[5A\u001b[2K\u001b[5A\u001b[2K\u001b[5A\u001b[2K\u001b[5A\u001b[2K\u001b[5A\u001b[2K\u001b[5A\u001b[2K\u001b[5A\u001b[2K\u001b[5A\u001b[2K\u001b[5A\u001b[2K\u001b[5A\u001b[2K\u001b[5A\u001b[2K\u001b[5A\u001b[2K\u001b[5A\u001b[2K\u001b[5A\u001b[2K\u001b[5A\u001b[2K\u001b[5A\u001b[2K\u001b[5A\u001b[2K\u001b[5A\u001b[2K\u001b[5A\u001b[2K\u001b[5A\u001b[2K\u001b[5A\u001b[2K\u001b[5A\u001b[2K\u001b[5A\u001b[2K\u001b[5A\u001b[2K\u001b[5A\u001b[2K\u001b[5A\u001b[2K\u001b[5A\u001b[2K\u001b[5A\u001b[2K\u001b[5A\u001b[2K\u001b[5A\u001b[2K\u001b[5A\u001b[2K\u001b[5A\u001b[2K\u001b[5A\u001b[2K\u001b[5A\u001b[2K\u001b[5A\u001b[2K\u001b[5A\u001b[2K\u001b[5A\u001b[2K\u001b[5A\u001b[2K\u001b[5A\u001b[2K\u001b[5A\u001b[2K\u001b[5A\u001b[2K\u001b[5A\u001b[2K\u001b[5A\u001b[2K\u001b[5A\u001b[2K\u001b[5A\u001b[2K\u001b[5A\u001b[2K\u001b[5A\u001b[2K\u001b[5A\u001b[2K\u001b[5A\u001b[2K\u001b[5A\u001b[2K\u001b[5A\u001b[2K\u001b[5A\u001b[2K\u001b[5A\u001b[2K\u001b[5A\u001b[2K\u001b[5A\u001b[2K\u001b[4A\u001b[2K\u001b[4A\u001b[2K\u001b[3A\u001b[2K\u001b[2A\u001b[2K\u001b[1A\u001b[2K\u001b[1A\u001b[2K\n",
      "Status: Downloaded newer image for elasticsearch:7.9.2\n",
      "2311863618a10fcbae1dc0c9d4999ff21ad9bd847f07d34c51b74faa35a736b5\n"
     ]
    }
   ],
   "source": [
    "! docker run -d -p 9200:9200 -e \"discovery.type=single-node\" elasticsearch:7.9.2"
   ]
  },
  {
   "cell_type": "code",
   "execution_count": 12,
   "id": "outside-teddy",
   "metadata": {},
   "outputs": [
    {
     "name": "stderr",
     "output_type": "stream",
     "text": [
      "02/20/2021 17:19:44 - INFO - elasticsearch -   PUT http://localhost:9200/document [status:200 request:0.363s]\n",
      "02/20/2021 17:19:44 - INFO - elasticsearch -   PUT http://localhost:9200/label [status:200 request:0.141s]\n"
     ]
    }
   ],
   "source": [
    "from haystack.document_store.elasticsearch import ElasticsearchDocumentStore\n",
    "document_store = ElasticsearchDocumentStore(host=\"localhost\", username=\"\", password=\"\", index=\"document\")"
   ]
  },
  {
   "cell_type": "code",
   "execution_count": 13,
   "id": "dangerous-limit",
   "metadata": {},
   "outputs": [
    {
     "name": "stderr",
     "output_type": "stream",
     "text": [
      "02/20/2021 17:30:54 - INFO - haystack.preprocessor.utils -   Fetching from https://s3.eu-central-1.amazonaws.com/deepset.ai-farm-qa/datasets/documents/wiki_gameofthrones_txt.zip to `data/article_txt_got`\n",
      "100%|██████████| 1095120/1095120 [00:00<00:00, 1958590.22B/s]\n"
     ]
    },
    {
     "data": {
      "text/plain": [
       "True"
      ]
     },
     "execution_count": 13,
     "metadata": {},
     "output_type": "execute_result"
    }
   ],
   "source": [
    "# Let's first fetch some documents that we want to query\n",
    "# Here: 517 Wikipedia articles for Game of Thrones\n",
    "doc_dir = \"data/article_txt_got\"\n",
    "s3_url = \"https://s3.eu-central-1.amazonaws.com/deepset.ai-farm-qa/datasets/documents/wiki_gameofthrones_txt.zip\"\n",
    "fetch_archive_from_http(url=s3_url, output_dir=doc_dir)"
   ]
  },
  {
   "cell_type": "code",
   "execution_count": 14,
   "id": "anonymous-control",
   "metadata": {},
   "outputs": [
    {
     "name": "stderr",
     "output_type": "stream",
     "text": [
      "02/20/2021 17:31:19 - INFO - haystack.preprocessor.utils -   Converting data/article_txt_got/145_Elio_M._García_Jr._and_Linda_Antonsson.txt\n",
      "02/20/2021 17:31:19 - INFO - haystack.preprocessor.utils -   Converting data/article_txt_got/368_Jaime_Lannister.txt\n",
      "02/20/2021 17:31:19 - INFO - haystack.preprocessor.utils -   Converting data/article_txt_got/133_Game_of_Thrones__Season_5__soundtrack_.txt\n",
      "02/20/2021 17:31:19 - INFO - haystack.preprocessor.utils -   Converting data/article_txt_got/515_The_Door__Game_of_Thrones_.txt\n",
      "02/20/2021 17:31:19 - INFO - haystack.preprocessor.utils -   Converting data/article_txt_got/119_Walk_of_Punishment.txt\n",
      "02/20/2021 17:31:19 - INFO - haystack.preprocessor.utils -   Converting data/article_txt_got/369_Samwell_Tarly.txt\n",
      "02/20/2021 17:31:19 - INFO - haystack.preprocessor.utils -   Converting data/article_txt_got/356_Tales_of_Dunk_and_Egg.txt\n",
      "02/20/2021 17:31:19 - INFO - haystack.preprocessor.utils -   Converting data/article_txt_got/195_World_of_A_Song_of_Ice_and_Fire.txt\n",
      "02/20/2021 17:31:19 - INFO - haystack.preprocessor.utils -   Converting data/article_txt_got/25_Game_of_Thrones__Season_2__soundtrack_.txt\n",
      "02/20/2021 17:31:19 - INFO - haystack.preprocessor.utils -   Converting data/article_txt_got/460_Battle_of_the_Bastards.txt\n",
      "02/20/2021 17:31:19 - INFO - haystack.preprocessor.utils -   Converting data/article_txt_got/511_After_the_Thrones.txt\n",
      "02/20/2021 17:31:19 - INFO - haystack.preprocessor.utils -   Converting data/article_txt_got/69_The_Red_Woman.txt\n",
      "02/20/2021 17:31:19 - INFO - haystack.preprocessor.utils -   Converting data/article_txt_got/407_The_Long_Night__Game_of_Thrones_.txt\n",
      "02/20/2021 17:31:19 - INFO - haystack.preprocessor.utils -   Converting data/article_txt_got/201_A_Game_of_Thrones__card_game_.txt\n",
      "02/20/2021 17:31:19 - INFO - haystack.preprocessor.utils -   Converting data/article_txt_got/97_Tyrion_Lannister.txt\n",
      "02/20/2021 17:31:19 - INFO - haystack.preprocessor.utils -   Converting data/article_txt_got/401_Power_Is_Power.txt\n",
      "02/20/2021 17:31:19 - INFO - haystack.preprocessor.utils -   Converting data/article_txt_got/51_Iron_Throne__A_Song_of_Ice_and_Fire_.txt\n",
      "02/20/2021 17:31:19 - INFO - haystack.preprocessor.utils -   Converting data/article_txt_got/20_Light_of_the_Seven.txt\n",
      "02/20/2021 17:31:19 - INFO - haystack.preprocessor.utils -   Converting data/article_txt_got/359_Kill_the_Boy.txt\n",
      "02/20/2021 17:31:19 - INFO - haystack.preprocessor.utils -   Converting data/article_txt_got/224_The_Night_Lands.txt\n",
      "02/20/2021 17:31:19 - INFO - haystack.preprocessor.utils -   Converting data/article_txt_got/8_Eastwatch.txt\n",
      "02/20/2021 17:31:19 - INFO - haystack.preprocessor.utils -   Converting data/article_txt_got/469_Outline_of_A_Song_of_Ice_and_Fire_franchise.txt\n",
      "02/20/2021 17:31:19 - INFO - haystack.preprocessor.utils -   Converting data/article_txt_got/402_A_Knight_of_the_Seven_Kingdoms__Game_of_Thrones_.txt\n",
      "02/20/2021 17:31:19 - INFO - haystack.preprocessor.utils -   Converting data/article_txt_got/11_The_Dragon_and_the_Wolf.txt\n",
      "02/20/2021 17:31:19 - INFO - haystack.preprocessor.utils -   Converting data/article_txt_got/53_The_Lion_and_the_Rose.txt\n",
      "02/20/2021 17:31:19 - INFO - haystack.preprocessor.utils -   Converting data/article_txt_got/136_Game_of_Thrones__Season_8__soundtrack_.txt\n",
      "02/20/2021 17:31:19 - INFO - haystack.preprocessor.utils -   Converting data/article_txt_got/439_Melisandre.txt\n",
      "02/20/2021 17:31:19 - INFO - haystack.preprocessor.utils -   Converting data/article_txt_got/485_Oathkeeper.txt\n",
      "02/20/2021 17:31:19 - INFO - haystack.preprocessor.utils -   Converting data/article_txt_got/26_Game_of_Thrones__Season_3__soundtrack_.txt\n",
      "02/20/2021 17:31:19 - INFO - haystack.preprocessor.utils -   Converting data/article_txt_got/329_Robert_Baratheon.txt\n",
      "02/20/2021 17:31:19 - INFO - haystack.preprocessor.utils -   Converting data/article_txt_got/443_The_Kingsroad.txt\n",
      "02/20/2021 17:31:19 - INFO - haystack.preprocessor.utils -   Converting data/article_txt_got/198_A_Clash_of_Kings.txt\n",
      "02/20/2021 17:31:19 - INFO - haystack.preprocessor.utils -   Converting data/article_txt_got/146_The_Sons_of_the_Dragon.txt\n",
      "02/20/2021 17:31:19 - INFO - haystack.preprocessor.utils -   Converting data/article_txt_got/68_The_Gift__Game_of_Thrones_.txt\n",
      "02/20/2021 17:31:19 - INFO - haystack.preprocessor.utils -   Converting data/article_txt_got/311_Game_of_Thrones__season_7_.txt\n",
      "02/20/2021 17:31:19 - INFO - haystack.preprocessor.utils -   Converting data/article_txt_got/482_Petyr_Baelish.txt\n",
      "02/20/2021 17:31:19 - INFO - haystack.preprocessor.utils -   Converting data/article_txt_got/7_The_Spoils_of_War__Game_of_Thrones_.txt\n",
      "02/20/2021 17:31:19 - INFO - haystack.preprocessor.utils -   Converting data/article_txt_got/332_Sansa_Stark.txt\n",
      "02/20/2021 17:31:19 - INFO - haystack.preprocessor.utils -   Converting data/article_txt_got/30_List_of_A_Song_of_Ice_and_Fire_characters.txt\n",
      "02/20/2021 17:31:19 - INFO - haystack.preprocessor.utils -   Converting data/article_txt_got/55_Breaker_of_Chains.txt\n",
      "02/20/2021 17:31:19 - INFO - haystack.preprocessor.utils -   Converting data/article_txt_got/342_Theon_Greyjoy.txt\n",
      "02/20/2021 17:31:19 - INFO - haystack.preprocessor.utils -   Converting data/article_txt_got/197_A_Game_of_Thrones.txt\n",
      "02/20/2021 17:31:19 - INFO - haystack.preprocessor.utils -   Converting data/article_txt_got/52_Catch_the_Throne.txt\n",
      "02/20/2021 17:31:19 - INFO - haystack.preprocessor.utils -   Converting data/article_txt_got/194_A_Song_of_Ice_and_Fire.txt\n",
      "02/20/2021 17:31:19 - INFO - haystack.preprocessor.utils -   Converting data/article_txt_got/273_High_Sparrow.txt\n",
      "02/20/2021 17:31:19 - INFO - haystack.preprocessor.utils -   Converting data/article_txt_got/454_Music_of_Game_of_Thrones.txt\n",
      "02/20/2021 17:31:19 - INFO - haystack.preprocessor.utils -   Converting data/article_txt_got/475_A_Game_of_Thrones__role-playing_game_.txt\n",
      "02/20/2021 17:31:19 - INFO - haystack.preprocessor.utils -   Converting data/article_txt_got/446_A_Golden_Crown.txt\n",
      "02/20/2021 17:31:19 - INFO - haystack.preprocessor.utils -   Converting data/article_txt_got/360_List_of_Game_of_Thrones_episodes.txt\n",
      "02/20/2021 17:31:19 - INFO - haystack.preprocessor.utils -   Converting data/article_txt_got/207_Jon_Snow__character_.txt\n",
      "02/20/2021 17:31:19 - INFO - haystack.preprocessor.utils -   Converting data/article_txt_got/44_Daenerys_Targaryen.txt\n",
      "02/20/2021 17:31:19 - INFO - haystack.preprocessor.utils -   Converting data/article_txt_got/160_Viserys_Targaryen.txt\n",
      "02/20/2021 17:31:19 - INFO - haystack.preprocessor.utils -   Converting data/article_txt_got/395_Game_of_Thrones__season_5_.txt\n",
      "02/20/2021 17:31:19 - INFO - haystack.preprocessor.utils -   Converting data/article_txt_got/78_The_Rains_of_Castamere.txt\n",
      "02/20/2021 17:31:19 - INFO - haystack.preprocessor.utils -   Converting data/article_txt_got/99_A_Song_of_Ass_and_Fire.txt\n",
      "02/20/2021 17:31:19 - INFO - haystack.preprocessor.utils -   Converting data/article_txt_got/411_The_Iron_Throne__Game_of_Thrones_.txt\n",
      "02/20/2021 17:31:19 - INFO - haystack.preprocessor.utils -   Converting data/article_txt_got/74_The_Prince_of_Winterfell.txt\n",
      "02/20/2021 17:31:19 - INFO - haystack.preprocessor.utils -   Converting data/article_txt_got/233_Myrcella_Baratheon.txt\n",
      "02/20/2021 17:31:19 - INFO - haystack.preprocessor.utils -   Converting data/article_txt_got/445_The_Wolf_and_the_Lion.txt\n",
      "02/20/2021 17:31:19 - INFO - haystack.preprocessor.utils -   Converting data/article_txt_got/77_Game_of_Thrones_Ascent.txt\n",
      "02/20/2021 17:31:19 - INFO - haystack.preprocessor.utils -   Converting data/article_txt_got/420_Blood_of_My_Blood.txt\n",
      "02/20/2021 17:31:19 - INFO - haystack.preprocessor.utils -   Converting data/article_txt_got/148_Game_of_Thrones__Winter_Is_Coming.txt\n",
      "02/20/2021 17:31:19 - INFO - haystack.preprocessor.utils -   Converting data/article_txt_got/39_Renly_Baratheon.txt\n",
      "02/20/2021 17:31:19 - INFO - haystack.preprocessor.utils -   Converting data/article_txt_got/22_The_Rains_of_Castamere__song_.txt\n",
      "02/20/2021 17:31:19 - INFO - haystack.preprocessor.utils -   Converting data/article_txt_got/9_Game_of_Thrones_Tapestry.txt\n",
      "02/20/2021 17:31:19 - INFO - haystack.preprocessor.utils -   Converting data/article_txt_got/345_A_Game_of_Thrones__comics_.txt\n"
     ]
    },
    {
     "name": "stderr",
     "output_type": "stream",
     "text": [
      "02/20/2021 17:31:19 - INFO - haystack.preprocessor.utils -   Converting data/article_txt_got/424_Night_King.txt\n",
      "02/20/2021 17:31:19 - INFO - haystack.preprocessor.utils -   Converting data/article_txt_got/435_White_Walker.txt\n",
      "02/20/2021 17:31:19 - INFO - haystack.preprocessor.utils -   Converting data/article_txt_got/304_Hardhome.txt\n",
      "02/20/2021 17:31:19 - INFO - haystack.preprocessor.utils -   Converting data/article_txt_got/12_Fire.txt\n",
      "02/20/2021 17:31:19 - INFO - haystack.preprocessor.utils -   Converting data/article_txt_got/102_The_Princess_and_the_Queen.txt\n",
      "02/20/2021 17:31:19 - INFO - haystack.preprocessor.utils -   Converting data/article_txt_got/444_Cripples__Bastards__and_Broken_Things.txt\n",
      "02/20/2021 17:31:19 - INFO - haystack.preprocessor.utils -   Converting data/article_txt_got/121_The_Bear_and_the_Maiden_Fair.txt\n",
      "02/20/2021 17:31:19 - INFO - haystack.preprocessor.utils -   Converting data/article_txt_got/461_The_Winds_of_Winter__Game_of_Thrones_.txt\n",
      "02/20/2021 17:31:19 - INFO - haystack.preprocessor.utils -   Converting data/article_txt_got/362_Winter_Is_Coming.txt\n",
      "02/20/2021 17:31:19 - INFO - haystack.preprocessor.utils -   Converting data/article_txt_got/504_List_of_A_Song_of_Ice_and_Fire_video_games.txt\n",
      "02/20/2021 17:31:19 - INFO - haystack.preprocessor.utils -   Converting data/article_txt_got/101_Titties_and_Dragons.txt\n",
      "02/20/2021 17:31:19 - INFO - haystack.preprocessor.utils -   Converting data/article_txt_got/379_Davos_Seaworth.txt\n",
      "02/20/2021 17:31:19 - INFO - haystack.preprocessor.utils -   Converting data/article_txt_got/98_Black_Friday__South_Park_.txt\n",
      "02/20/2021 17:31:19 - INFO - haystack.preprocessor.utils -   Converting data/article_txt_got/86_Game_of_Thrones__season_4_.txt\n",
      "02/20/2021 17:31:19 - INFO - haystack.preprocessor.utils -   Converting data/article_txt_got/10_Beyond_the_Wall__Game_of_Thrones_.txt\n",
      "02/20/2021 17:31:19 - INFO - haystack.preprocessor.utils -   Converting data/article_txt_got/508_A_Game_of_Thrones__Second_Edition__card_game_.txt\n",
      "02/20/2021 17:31:19 - INFO - haystack.preprocessor.utils -   Converting data/article_txt_got/340_Roose_Bolton.txt\n",
      "02/20/2021 17:31:19 - INFO - haystack.preprocessor.utils -   Converting data/article_txt_got/28_Jorah_Mormont.txt\n",
      "02/20/2021 17:31:19 - INFO - haystack.preprocessor.utils -   Converting data/article_txt_got/396_Game_of_Thrones__season_6_.txt\n",
      "02/20/2021 17:31:19 - INFO - haystack.preprocessor.utils -   Converting data/article_txt_got/209_Mockingbird__Game_of_Thrones_.txt\n",
      "02/20/2021 17:31:19 - INFO - haystack.preprocessor.utils -   Converting data/article_txt_got/341_Ned_Stark.txt\n",
      "02/20/2021 17:31:19 - INFO - haystack.preprocessor.utils -   Converting data/article_txt_got/57_The_Laws_of_Gods_and_Men.txt\n",
      "02/20/2021 17:31:19 - INFO - haystack.preprocessor.utils -   Converting data/article_txt_got/37_Joffrey_Baratheon.txt\n",
      "02/20/2021 17:31:19 - INFO - haystack.preprocessor.utils -   Converting data/article_txt_got/371_Cersei_Lannister.txt\n",
      "02/20/2021 17:31:19 - INFO - haystack.preprocessor.utils -   Converting data/article_txt_got/67_Unbowed__Unbent__Unbroken.txt\n",
      "02/20/2021 17:31:19 - INFO - haystack.preprocessor.utils -   Converting data/article_txt_got/481_Sandor_Clegane.txt\n",
      "02/20/2021 17:31:19 - INFO - haystack.preprocessor.utils -   Converting data/article_txt_got/135_Game_of_Thrones__Season_7__soundtrack_.txt\n",
      "02/20/2021 17:31:19 - INFO - haystack.preprocessor.utils -   Converting data/article_txt_got/425_No_One__Game_of_Thrones_.txt\n",
      "02/20/2021 17:31:19 - INFO - haystack.preprocessor.utils -   Converting data/article_txt_got/501_Khal_Drogo.txt\n",
      "02/20/2021 17:31:19 - INFO - haystack.preprocessor.utils -   Converting data/article_txt_got/447_You_Win_or_You_Die.txt\n",
      "02/20/2021 17:31:19 - INFO - haystack.preprocessor.utils -   Converting data/article_txt_got/228_Souad_Faress.txt\n",
      "02/20/2021 17:31:19 - INFO - haystack.preprocessor.utils -   Converting data/article_txt_got/54_Two_Swords__Game_of_Thrones_.txt\n",
      "02/20/2021 17:31:19 - INFO - haystack.preprocessor.utils -   Converting data/article_txt_got/76_Valar_Morghulis.txt\n",
      "02/20/2021 17:31:19 - INFO - haystack.preprocessor.utils -   Converting data/article_txt_got/134_Game_of_Thrones__Season_6__soundtrack_.txt\n",
      "02/20/2021 17:31:19 - INFO - haystack.preprocessor.utils -   Converting data/article_txt_got/306_The_Dance_of_Dragons.txt\n",
      "02/20/2021 17:31:19 - INFO - haystack.preprocessor.utils -   Converting data/article_txt_got/27_Game_of_Thrones__Season_4__soundtrack_.txt\n",
      "02/20/2021 17:31:19 - INFO - haystack.preprocessor.utils -   Converting data/article_txt_got/24_Game_of_Thrones__Season_1__soundtrack_.txt\n",
      "02/20/2021 17:31:19 - INFO - haystack.preprocessor.utils -   Converting data/article_txt_got/199_A_Storm_of_Swords.txt\n",
      "02/20/2021 17:31:19 - INFO - haystack.preprocessor.utils -   Converting data/article_txt_got/310_Mother_s_Mercy.txt\n",
      "02/20/2021 17:31:19 - INFO - haystack.preprocessor.utils -   Converting data/article_txt_got/452_Fire_and_Blood__Game_of_Thrones_.txt\n",
      "02/20/2021 17:31:19 - INFO - haystack.preprocessor.utils -   Converting data/article_txt_got/262_Gilly__character_.txt\n",
      "02/20/2021 17:31:19 - INFO - haystack.preprocessor.utils -   Converting data/article_txt_got/202_A_Feast_for_Crows.txt\n",
      "02/20/2021 17:31:19 - INFO - haystack.preprocessor.utils -   Converting data/article_txt_got/449_The_Pointy_End.txt\n",
      "02/20/2021 17:31:19 - INFO - haystack.preprocessor.utils -   Converting data/article_txt_got/85_Game_of_Thrones__Seven_Kingdoms.txt\n",
      "02/20/2021 17:31:19 - INFO - haystack.preprocessor.utils -   Converting data/article_txt_got/347_Game_of_Thrones__season_2_.txt\n",
      "02/20/2021 17:31:19 - INFO - haystack.preprocessor.utils -   Converting data/article_txt_got/120_And_Now_His_Watch_Is_Ended.txt\n",
      "02/20/2021 17:31:19 - INFO - haystack.preprocessor.utils -   Converting data/article_txt_got/217_The_Rogue_Prince.txt\n",
      "02/20/2021 17:31:19 - INFO - haystack.preprocessor.utils -   Converting data/article_txt_got/33_David_Benioff.txt\n",
      "02/20/2021 17:31:19 - INFO - haystack.preprocessor.utils -   Converting data/article_txt_got/218_Olenna_Tyrell.txt\n",
      "02/20/2021 17:31:19 - INFO - haystack.preprocessor.utils -   Converting data/article_txt_got/0_Game_of_Thrones__season_8_.txt\n",
      "02/20/2021 17:31:19 - INFO - haystack.preprocessor.utils -   Converting data/article_txt_got/474_Bronn__character_.txt\n",
      "02/20/2021 17:31:19 - INFO - haystack.preprocessor.utils -   Converting data/article_txt_got/456_Works_based_on_A_Song_of_Ice_and_Fire.txt\n",
      "02/20/2021 17:31:19 - INFO - haystack.preprocessor.utils -   Converting data/article_txt_got/154_Margaery_Tyrell.txt\n",
      "02/20/2021 17:31:19 - INFO - haystack.preprocessor.utils -   Converting data/article_txt_got/331_Bran_Stark.txt\n",
      "02/20/2021 17:31:19 - INFO - haystack.preprocessor.utils -   Converting data/article_txt_got/480_Varys.txt\n",
      "02/20/2021 17:31:19 - INFO - haystack.preprocessor.utils -   Converting data/article_txt_got/330_Oberyn_Martell.txt\n",
      "02/20/2021 17:31:19 - INFO - haystack.preprocessor.utils -   Converting data/article_txt_got/408_The_Last_of_the_Starks.txt\n",
      "02/20/2021 17:31:19 - INFO - haystack.preprocessor.utils -   Converting data/article_txt_got/394_Game_of_Thrones__2014_video_game_.txt\n",
      "02/20/2021 17:31:19 - INFO - haystack.preprocessor.utils -   Converting data/article_txt_got/346_Ygritte.txt\n",
      "02/20/2021 17:31:19 - INFO - haystack.preprocessor.utils -   Converting data/article_txt_got/348_The_Winds_of_Winter.txt\n",
      "02/20/2021 17:31:19 - INFO - haystack.preprocessor.utils -   Converting data/article_txt_got/131_Mhysa.txt\n",
      "02/20/2021 17:31:19 - INFO - haystack.preprocessor.utils -   Converting data/article_txt_got/87_Valar_Dohaeris.txt\n",
      "02/20/2021 17:31:19 - INFO - haystack.preprocessor.utils -   Converting data/article_txt_got/1_Dragonstone__Game_of_Thrones_episode_.txt\n",
      "02/20/2021 17:31:19 - INFO - haystack.preprocessor.utils -   Converting data/article_txt_got/400_Winterfell__Game_of_Thrones_episode_.txt\n",
      "02/20/2021 17:31:19 - INFO - haystack.preprocessor.utils -   Converting data/article_txt_got/373_Tywin_Lannister.txt\n",
      "02/20/2021 17:31:19 - INFO - haystack.preprocessor.utils -   Converting data/article_txt_got/75_Blackwater__Game_of_Thrones_.txt\n",
      "02/20/2021 17:31:19 - INFO - haystack.preprocessor.utils -   Converting data/article_txt_got/378_A_Game_of_Thrones__board_game_.txt\n"
     ]
    },
    {
     "name": "stderr",
     "output_type": "stream",
     "text": [
      "02/20/2021 17:31:19 - INFO - haystack.preprocessor.utils -   Converting data/article_txt_got/512_Home__Game_of_Thrones_.txt\n",
      "02/20/2021 17:31:19 - INFO - haystack.preprocessor.utils -   Converting data/article_txt_got/80_A_Song_of_Ice_and_Fire_fandom.txt\n",
      "02/20/2021 17:31:19 - INFO - haystack.preprocessor.utils -   Converting data/article_txt_got/229_Game_of_Thrones.txt\n",
      "02/20/2021 17:31:19 - INFO - haystack.preprocessor.utils -   Converting data/article_txt_got/56_First_of_His_Name.txt\n",
      "02/20/2021 17:31:19 - INFO - haystack.preprocessor.utils -   Converting data/article_txt_got/263_Tormund_Giantsbane.txt\n",
      "02/20/2021 17:31:19 - INFO - haystack.preprocessor.utils -   Converting data/article_txt_got/513_Oathbreaker__Game_of_Thrones_.txt\n",
      "02/20/2021 17:31:19 - INFO - haystack.preprocessor.utils -   Converting data/article_txt_got/487_Ramsay_Bolton.txt\n",
      "02/20/2021 17:31:19 - INFO - haystack.preprocessor.utils -   Converting data/article_txt_got/365_A_Song_of_Ice_and_Fire_Roleplaying.txt\n",
      "02/20/2021 17:31:19 - INFO - haystack.preprocessor.utils -   Converting data/article_txt_got/73_A_Man_Without_Honor.txt\n",
      "02/20/2021 17:31:19 - INFO - haystack.preprocessor.utils -   Converting data/article_txt_got/208_Robb_Stark.txt\n",
      "02/20/2021 17:31:19 - INFO - haystack.preprocessor.utils -   Converting data/article_txt_got/343_Catelyn_Stark.txt\n",
      "02/20/2021 17:31:20 - INFO - haystack.preprocessor.utils -   Converting data/article_txt_got/232_Tommen_Baratheon.txt\n",
      "02/20/2021 17:31:20 - INFO - haystack.preprocessor.utils -   Converting data/article_txt_got/43_Arya_Stark.txt\n",
      "02/20/2021 17:31:20 - INFO - haystack.preprocessor.utils -   Converting data/article_txt_got/84_List_of_awards_and_nominations_received_by_Game_of_Thrones.txt\n",
      "02/20/2021 17:31:20 - INFO - haystack.preprocessor.utils -   Converting data/article_txt_got/450_Baelor.txt\n",
      "02/20/2021 17:31:20 - INFO - haystack.preprocessor.utils -   Converting data/article_txt_got/399_For_the_Throne__Music_Inspired_by_the_HBO_Series_Game_of_Thrones.txt\n",
      "02/20/2021 17:31:20 - INFO - haystack.preprocessor.utils -   Converting data/article_txt_got/40_Stannis_Baratheon.txt\n",
      "02/20/2021 17:31:20 - INFO - haystack.preprocessor.utils -   Converting data/article_txt_got/495_Hodor.txt\n",
      "02/20/2021 17:31:20 - INFO - haystack.preprocessor.utils -   Converting data/article_txt_got/23_Game_of_Thrones_Live_Concert_Experience.txt\n",
      "02/20/2021 17:31:20 - INFO - haystack.preprocessor.utils -   Converting data/article_txt_got/130_Game_of_Thrones_title_sequence.txt\n",
      "02/20/2021 17:31:20 - INFO - haystack.preprocessor.utils -   Converting data/article_txt_got/317_The_Broken_Man.txt\n",
      "02/20/2021 17:31:20 - INFO - haystack.preprocessor.utils -   Converting data/article_txt_got/488_Brienne_of_Tarth.txt\n",
      "02/20/2021 17:31:20 - INFO - haystack.preprocessor.utils -   Converting data/article_txt_got/21_The_Bear_and_the_Maiden_Fair__song_.txt\n",
      "02/20/2021 17:31:20 - INFO - haystack.preprocessor.utils -   Converting data/article_txt_got/211_The_Watchers_on_the_Wall.txt\n",
      "02/20/2021 17:31:20 - INFO - haystack.preprocessor.utils -   Converting data/article_txt_got/453_Game_of_Thrones__2012_video_game_.txt\n",
      "02/20/2021 17:31:20 - INFO - haystack.preprocessor.utils -   Converting data/article_txt_got/442_Game_of_Thrones__season_1_.txt\n",
      "02/20/2021 17:31:20 - INFO - haystack.preprocessor.utils -   Converting data/article_txt_got/410_The_Bells__Game_of_Thrones_.txt\n",
      "02/20/2021 17:31:20 - INFO - haystack.preprocessor.utils -   Converting data/article_txt_got/213_Valyrian_languages.txt\n",
      "02/20/2021 17:31:20 - INFO - haystack.preprocessor.utils -   Converting data/article_txt_got/126_Kissed_by_Fire.txt\n",
      "02/20/2021 17:31:20 - INFO - haystack.preprocessor.utils -   Converting data/article_txt_got/212_The_Children__Game_of_Thrones_.txt\n",
      "02/20/2021 17:31:20 - INFO - haystack.preprocessor.utils -   Converting data/article_txt_got/299_Rani_Mahal__TV_series_.txt\n",
      "02/20/2021 17:31:20 - INFO - haystack.preprocessor.utils -   Converting data/article_txt_got/214_Dothraki_language.txt\n",
      "02/20/2021 17:31:20 - INFO - haystack.preprocessor.utils -   Converting data/article_txt_got/506_Game_of_Thrones_Theme.txt\n",
      "02/20/2021 17:31:20 - INFO - haystack.preprocessor.utils -   Converting data/article_txt_got/367_Gregor_Clegane.txt\n",
      "02/20/2021 17:31:20 - INFO - haystack.preprocessor.utils -   Converting data/article_txt_got/151_Ellaria_Sand.txt\n",
      "02/20/2021 17:31:20 - INFO - haystack.preprocessor.utils -   Converting data/article_txt_got/191_Gendry.txt\n",
      "02/20/2021 17:31:20 - INFO - haystack.preprocessor.utils -   Converting data/article_txt_got/79_Thronecast.txt\n",
      "02/20/2021 17:31:20 - INFO - haystack.preprocessor.utils -   Converting data/article_txt_got/477_A_Dance_with_Dragons.txt\n",
      "02/20/2021 17:31:20 - INFO - haystack.preprocessor.utils -   Converting data/article_txt_got/193_Lord_Snow.txt\n",
      "02/20/2021 17:31:20 - INFO - haystack.preprocessor.utils -   Converting data/article_txt_got/514_Book_of_the_Stranger.txt\n",
      "02/20/2021 17:31:20 - INFO - haystack.preprocessor.utils -   Converting data/article_txt_got/334_Rickon_Stark.txt\n",
      "02/20/2021 17:31:20 - INFO - haystack.preprocessor.utils -   Converting data/article_txt_got/210_The_Mountain_and_the_Viper.txt\n",
      "02/20/2021 17:31:20 - INFO - haystack.preprocessor.utils -   Converting data/article_txt_got/127_The_Climb__Game_of_Thrones_.txt\n",
      "02/20/2021 17:31:20 - INFO - haystack.preprocessor.utils -   Converting data/article_txt_got/3_The_Queen_s_Justice.txt\n",
      "02/20/2021 17:31:20 - INFO - haystack.preprocessor.utils -   Converting data/article_txt_got/403_Jenny_of_Oldstones.txt\n",
      "02/20/2021 17:31:20 - INFO - haystack.preprocessor.utils -   Converting data/article_txt_got/129_Second_Sons.txt\n",
      "02/20/2021 17:31:20 - INFO - haystack.preprocessor.utils -   Converting data/article_txt_got/349_List_of_Game_of_Thrones_characters.txt\n",
      "02/20/2021 17:31:20 - INFO - haystack.preprocessor.utils -   Converting data/article_txt_got/118_Dark_Wings__Dark_Words.txt\n",
      "02/20/2021 17:31:20 - INFO - haystack.preprocessor.utils -   Converting data/article_txt_got/358_A_Game_of_Thrones__Genesis.txt\n",
      "02/20/2021 17:31:20 - INFO - haystack.preprocessor.utils -   Converting data/article_txt_got/2_Stormborn.txt\n"
     ]
    }
   ],
   "source": [
    "dicts = convert_files_to_dicts(dir_path=doc_dir, clean_func=clean_wiki_text, split_paragraphs=True)\n"
   ]
  },
  {
   "cell_type": "code",
   "execution_count": null,
   "id": "unsigned-journalist",
   "metadata": {},
   "outputs": [],
   "source": [
    "# Convert files to dicts\n",
    "# You can optionally supply a cleaning function that is applied to each doc (e.g. to remove footers)\n",
    "# It must take a str as input, and return a str.\n",
    "dicts = convert_files_to_dicts(dir_path=doc_dir, clean_func=clean_wiki_text, split_paragraphs=True)\n",
    "\n",
    "# We now have a list of dictionaries that we can write to our document store.\n",
    "# If your texts come from a different source (e.g. a DB), you can of course skip convert_files_to_dicts() and create the dictionaries yourself.\n",
    "# The default format here is:\n",
    "# {\n",
    "#    'text': \"<DOCUMENT_TEXT_HERE>\",\n",
    "#    'meta': {'name': \"<DOCUMENT_NAME_HERE>\", ...}\n",
    "#}\n",
    "# (Optionally: you can also add more key-value-pairs here, that will be indexed as fields in Elasticsearch and\n",
    "# can be accessed later for filtering or shown in the responses of the Finder)\n",
    "\n",
    "# Let's have a look at the first 3 entries:\n",
    "print(dicts[:3])\n",
    "\n",
    "# Now, let's write the dicts containing documents to our DB.\n",
    "document_store.write_documents(dicts)"
   ]
  }
 ],
 "metadata": {
  "kernelspec": {
   "display_name": "Python 3",
   "language": "python",
   "name": "python3"
  },
  "language_info": {
   "codemirror_mode": {
    "name": "ipython",
    "version": 3
   },
   "file_extension": ".py",
   "mimetype": "text/x-python",
   "name": "python",
   "nbconvert_exporter": "python",
   "pygments_lexer": "ipython3",
   "version": "3.8.5"
  }
 },
 "nbformat": 4,
 "nbformat_minor": 5
}
