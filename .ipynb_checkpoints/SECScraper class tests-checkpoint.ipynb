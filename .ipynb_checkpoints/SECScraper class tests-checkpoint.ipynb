{
 "cells": [
  {
   "cell_type": "code",
   "execution_count": 1,
   "id": "institutional-substance",
   "metadata": {},
   "outputs": [],
   "source": [
    "import re\n",
    "from pickle import dump\n",
    "import requests\n",
    "from bs4 import BeautifulSoup\n",
    "import bs4\n",
    "import pandas as pd"
   ]
  },
  {
   "cell_type": "code",
   "execution_count": 82,
   "id": "useful-balloon",
   "metadata": {},
   "outputs": [],
   "source": [
    "class secscraper:\n",
    "    def __init__(self):\n",
    "        self.cik_url = 'http://www.sec.gov/cgi-bin/browse-edgar?CIK={}&Find=Search&owner=exclude&action=getcompany'\n",
    "        self.CIK_RE = re.compile(r'.*CIK=(\\d{10}).*')\n",
    "        self.nasdaq = pd.read_csv('nasdaq.csv')\n",
    "        self.sec_url = 'https://www.sec.gov/cgi-bin/browse-edgar?action=getcompany&CIK={}&type=&dateb=&owner=exclude&start=0&count=100'\n",
    "\n",
    "    def get_cik(self, ticker):\n",
    "        f = requests.get(self.cik_url.format(ticker), stream = True);\n",
    "        results = self.CIK_RE.findall(f.text)\n",
    "        return results[0]\n",
    "    \n",
    "\n",
    "    def get_excel_url(self, cik, key):\n",
    "        base_url = ['https://','sec.gov']\n",
    "        \n",
    "        response = requests.get(self.sec_url.format(cik))\n",
    "        soup = BeautifulSoup(response.text, 'html.parser')\n",
    "        tbls = soup.find_all('table', {'class':'tableFile2'})[0]\n",
    "        tag = self.search_latest_report(tbls, key)\n",
    "        print(self.sec_url.format(cik))\n",
    "        interactive_data_url = tag.find_all('a')[1].get('href')\n",
    "        interactive_data_url = ''.join(base_url + [interactive_data_url])\n",
    "        interactive_data_page = requests.get(interactive_data_url)\n",
    "\n",
    "        page_soup = BeautifulSoup(interactive_data_page.text, 'html.parser')\n",
    "        excel_url = page_soup.find_all('a', {'class':'xbrlviewer'})[1]\n",
    "        excel_url = excel_url.get('href')\n",
    "        pandas_excel_url = ''.join(base_url + [excel_url])\n",
    "\n",
    "        return pandas_excel_url\n",
    "\n",
    "\n",
    "    def search_latest_report(self, table, key):\n",
    "        for tr in table:\n",
    "            search = False\n",
    "            for td in tr:\n",
    "                \n",
    "                if isinstance(td, bs4.element.Tag):\n",
    "                    \n",
    "                    if key in td.text and len(td.text) == 4:\n",
    "                        search=True\n",
    "                        \n",
    "                    if search and 'Interactive Data' in td.text:\n",
    "                        return td\n",
    "\n",
    "    \n",
    "    def get_report(self, ticker, key = '10-Q'):\n",
    "        cik = self.get_cik(ticker)\n",
    "        url = self.get_excel_url(cik, key=key)\n",
    "        dfs = pd.read_excel(url, sheet_name = None )\n",
    "        return dfs"
   ]
  },
  {
   "cell_type": "code",
   "execution_count": 83,
   "id": "smart-employer",
   "metadata": {},
   "outputs": [],
   "source": [
    "sc = secscraper()\n",
    "\n",
    "# dfs = sc.get_report('TSLA')\n",
    "\n",
    "# dfs_10k = sc.get_report('TSLA', key='10-k')"
   ]
  },
  {
   "cell_type": "code",
   "execution_count": 84,
   "id": "assumed-belly",
   "metadata": {},
   "outputs": [
    {
     "name": "stdout",
     "output_type": "stream",
     "text": [
      "6\n",
      "----\n",
      "4\n",
      "4\n",
      "----\n",
      "4\n",
      "https://www.sec.gov/cgi-bin/browse-edgar?action=getcompany&CIK=0001318605&type=&dateb=&owner=exclude&start=0&count=100\n"
     ]
    },
    {
     "ename": "AttributeError",
     "evalue": "'NoneType' object has no attribute 'find_all'",
     "output_type": "error",
     "traceback": [
      "\u001b[0;31m---------------------------------------------------------------------------\u001b[0m",
      "\u001b[0;31mAttributeError\u001b[0m                            Traceback (most recent call last)",
      "\u001b[0;32m<ipython-input-84-6519c4b9d484>\u001b[0m in \u001b[0;36m<module>\u001b[0;34m\u001b[0m\n\u001b[0;32m----> 1\u001b[0;31m \u001b[0msc\u001b[0m\u001b[0;34m.\u001b[0m\u001b[0mget_report\u001b[0m\u001b[0;34m(\u001b[0m\u001b[0;34m'TSLA'\u001b[0m\u001b[0;34m,\u001b[0m \u001b[0mkey\u001b[0m\u001b[0;34m=\u001b[0m\u001b[0;34m'10-K'\u001b[0m\u001b[0;34m)\u001b[0m\u001b[0;34m\u001b[0m\u001b[0;34m\u001b[0m\u001b[0m\n\u001b[0m",
      "\u001b[0;32m<ipython-input-82-00c1bb9aaee0>\u001b[0m in \u001b[0;36mget_report\u001b[0;34m(self, ticker, key)\u001b[0m\n\u001b[1;32m     51\u001b[0m     \u001b[0;32mdef\u001b[0m \u001b[0mget_report\u001b[0m\u001b[0;34m(\u001b[0m\u001b[0mself\u001b[0m\u001b[0;34m,\u001b[0m \u001b[0mticker\u001b[0m\u001b[0;34m,\u001b[0m \u001b[0mkey\u001b[0m \u001b[0;34m=\u001b[0m \u001b[0;34m'10-Q'\u001b[0m\u001b[0;34m)\u001b[0m\u001b[0;34m:\u001b[0m\u001b[0;34m\u001b[0m\u001b[0;34m\u001b[0m\u001b[0m\n\u001b[1;32m     52\u001b[0m         \u001b[0mcik\u001b[0m \u001b[0;34m=\u001b[0m \u001b[0mself\u001b[0m\u001b[0;34m.\u001b[0m\u001b[0mget_cik\u001b[0m\u001b[0;34m(\u001b[0m\u001b[0mticker\u001b[0m\u001b[0;34m)\u001b[0m\u001b[0;34m\u001b[0m\u001b[0;34m\u001b[0m\u001b[0m\n\u001b[0;32m---> 53\u001b[0;31m         \u001b[0murl\u001b[0m \u001b[0;34m=\u001b[0m \u001b[0mself\u001b[0m\u001b[0;34m.\u001b[0m\u001b[0mget_excel_url\u001b[0m\u001b[0;34m(\u001b[0m\u001b[0mcik\u001b[0m\u001b[0;34m,\u001b[0m \u001b[0mkey\u001b[0m\u001b[0;34m=\u001b[0m\u001b[0mkey\u001b[0m\u001b[0;34m)\u001b[0m\u001b[0;34m\u001b[0m\u001b[0;34m\u001b[0m\u001b[0m\n\u001b[0m\u001b[1;32m     54\u001b[0m         \u001b[0mdfs\u001b[0m \u001b[0;34m=\u001b[0m \u001b[0mpd\u001b[0m\u001b[0;34m.\u001b[0m\u001b[0mread_excel\u001b[0m\u001b[0;34m(\u001b[0m\u001b[0murl\u001b[0m\u001b[0;34m,\u001b[0m \u001b[0msheet_name\u001b[0m \u001b[0;34m=\u001b[0m \u001b[0;32mNone\u001b[0m \u001b[0;34m)\u001b[0m\u001b[0;34m\u001b[0m\u001b[0;34m\u001b[0m\u001b[0m\n\u001b[1;32m     55\u001b[0m         \u001b[0;32mreturn\u001b[0m \u001b[0mdfs\u001b[0m\u001b[0;34m\u001b[0m\u001b[0;34m\u001b[0m\u001b[0m\n",
      "\u001b[0;32m<ipython-input-82-00c1bb9aaee0>\u001b[0m in \u001b[0;36mget_excel_url\u001b[0;34m(self, cik, key)\u001b[0m\n\u001b[1;32m     20\u001b[0m         \u001b[0mtag\u001b[0m \u001b[0;34m=\u001b[0m \u001b[0mself\u001b[0m\u001b[0;34m.\u001b[0m\u001b[0msearch_latest_report\u001b[0m\u001b[0;34m(\u001b[0m\u001b[0mtbls\u001b[0m\u001b[0;34m,\u001b[0m \u001b[0mkey\u001b[0m\u001b[0;34m)\u001b[0m\u001b[0;34m\u001b[0m\u001b[0;34m\u001b[0m\u001b[0m\n\u001b[1;32m     21\u001b[0m         \u001b[0mprint\u001b[0m\u001b[0;34m(\u001b[0m\u001b[0mself\u001b[0m\u001b[0;34m.\u001b[0m\u001b[0msec_url\u001b[0m\u001b[0;34m.\u001b[0m\u001b[0mformat\u001b[0m\u001b[0;34m(\u001b[0m\u001b[0mcik\u001b[0m\u001b[0;34m)\u001b[0m\u001b[0;34m)\u001b[0m\u001b[0;34m\u001b[0m\u001b[0;34m\u001b[0m\u001b[0m\n\u001b[0;32m---> 22\u001b[0;31m         \u001b[0minteractive_data_url\u001b[0m \u001b[0;34m=\u001b[0m \u001b[0mtag\u001b[0m\u001b[0;34m.\u001b[0m\u001b[0mfind_all\u001b[0m\u001b[0;34m(\u001b[0m\u001b[0;34m'a'\u001b[0m\u001b[0;34m)\u001b[0m\u001b[0;34m[\u001b[0m\u001b[0;36m1\u001b[0m\u001b[0;34m]\u001b[0m\u001b[0;34m.\u001b[0m\u001b[0mget\u001b[0m\u001b[0;34m(\u001b[0m\u001b[0;34m'href'\u001b[0m\u001b[0;34m)\u001b[0m\u001b[0;34m\u001b[0m\u001b[0;34m\u001b[0m\u001b[0m\n\u001b[0m\u001b[1;32m     23\u001b[0m         \u001b[0minteractive_data_url\u001b[0m \u001b[0;34m=\u001b[0m \u001b[0;34m''\u001b[0m\u001b[0;34m.\u001b[0m\u001b[0mjoin\u001b[0m\u001b[0;34m(\u001b[0m\u001b[0mbase_url\u001b[0m \u001b[0;34m+\u001b[0m \u001b[0;34m[\u001b[0m\u001b[0minteractive_data_url\u001b[0m\u001b[0;34m]\u001b[0m\u001b[0;34m)\u001b[0m\u001b[0;34m\u001b[0m\u001b[0;34m\u001b[0m\u001b[0m\n\u001b[1;32m     24\u001b[0m         \u001b[0minteractive_data_page\u001b[0m \u001b[0;34m=\u001b[0m \u001b[0mrequests\u001b[0m\u001b[0;34m.\u001b[0m\u001b[0mget\u001b[0m\u001b[0;34m(\u001b[0m\u001b[0minteractive_data_url\u001b[0m\u001b[0;34m)\u001b[0m\u001b[0;34m\u001b[0m\u001b[0;34m\u001b[0m\u001b[0m\n",
      "\u001b[0;31mAttributeError\u001b[0m: 'NoneType' object has no attribute 'find_all'"
     ]
    }
   ],
   "source": [
    "sc.get_report('TSLA', key='10-K')"
   ]
  },
  {
   "cell_type": "code",
   "execution_count": null,
   "id": "pleasant-bulgaria",
   "metadata": {},
   "outputs": [],
   "source": []
  },
  {
   "cell_type": "code",
   "execution_count": null,
   "id": "colored-female",
   "metadata": {},
   "outputs": [],
   "source": []
  },
  {
   "cell_type": "code",
   "execution_count": 106,
   "id": "meaningful-mileage",
   "metadata": {},
   "outputs": [
    {
     "name": "stdout",
     "output_type": "stream",
     "text": [
      "https://sec.gov/Archives/edgar/data/1318605/000156459020047486/Financial_Report.xlsx\n",
      "https://sec.gov/Archives/edgar/data/1522704/000121390019024008/Financial_Report.xlsx\n",
      "https://sec.gov/Archives/edgar/data/1326380/000132638020000134/Financial_Report.xlsx\n"
     ]
    }
   ],
   "source": [
    "for ticker in ['TSLA','MFST', 'GME']:\n",
    "    sc.get_report(ticker, '10-K')"
   ]
  },
  {
   "cell_type": "code",
   "execution_count": null,
   "id": "neither-merit",
   "metadata": {},
   "outputs": [],
   "source": []
  }
 ],
 "metadata": {
  "kernelspec": {
   "display_name": "Python 3",
   "language": "python",
   "name": "python3"
  },
  "language_info": {
   "codemirror_mode": {
    "name": "ipython",
    "version": 3
   },
   "file_extension": ".py",
   "mimetype": "text/x-python",
   "name": "python",
   "nbconvert_exporter": "python",
   "pygments_lexer": "ipython3",
   "version": "3.9.1"
  }
 },
 "nbformat": 4,
 "nbformat_minor": 5
}
