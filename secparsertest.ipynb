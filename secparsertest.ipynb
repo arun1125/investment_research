{
 "cells": [
  {
   "cell_type": "code",
   "execution_count": 1,
   "id": "negative-whale",
   "metadata": {},
   "outputs": [],
   "source": [
    "#build a class to scrape sec reports \n",
    "\n",
    "from secscraper import *\n",
    "\n",
    "sc = secscraper()\n",
    "\n",
    "nasdaq = sc.nasdaq\n",
    "\n",
    "nasdaq.head()\n",
    "\n",
    "nasdaq['Ticker'].unique()\n",
    "\n",
    "TSLA_10Q = sc.get_report('TSLA')\n",
    "TSLA_10K = sc.get_report('TSLA', key = '10-K')"
   ]
  },
  {
   "cell_type": "code",
   "execution_count": null,
   "id": "transparent-native",
   "metadata": {},
   "outputs": [],
   "source": [
    "import pandas as pd"
   ]
  },
  {
   "cell_type": "code",
   "execution_count": 17,
   "id": "periodic-parallel",
   "metadata": {},
   "outputs": [],
   "source": [
    "def scrape_10_k(dfs):\n",
    "    keys = pd.Series(dfs.keys())\n",
    "    keys = keys.loc[[1,3,4,7]]\n",
    "    \n",
    "    dfs = [dfs[key] for key in keys]\n",
    "    \n",
    "    return dfs"
   ]
  },
  {
   "cell_type": "code",
   "execution_count": 18,
   "id": "burning-picture",
   "metadata": {},
   "outputs": [],
   "source": [
    "def scrape_10_Q(dfs):\n",
    "    keys = pd.Series(dfs.keys())\n",
    "    keys = keys.loc[[1,3,5,8]]\n",
    "    \n",
    "    dfs = [dfs[key] for key in keys]\n",
    "    \n",
    "    return dfs"
   ]
  }
 ],
 "metadata": {
  "kernelspec": {
   "display_name": "Python 3",
   "language": "python",
   "name": "python3"
  },
  "language_info": {
   "codemirror_mode": {
    "name": "ipython",
    "version": 3
   },
   "file_extension": ".py",
   "mimetype": "text/x-python",
   "name": "python",
   "nbconvert_exporter": "python",
   "pygments_lexer": "ipython3",
   "version": "3.9.1"
  }
 },
 "nbformat": 4,
 "nbformat_minor": 5
}
